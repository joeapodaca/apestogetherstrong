{
 "cells": [
  {
   "cell_type": "code",
   "execution_count": 1,
   "id": "10c0eb33",
   "metadata": {},
   "outputs": [],
   "source": [
    "import warnings\n",
    "warnings.filterwarnings('ignore')"
   ]
  },
  {
   "cell_type": "code",
   "execution_count": 2,
   "id": "e6e76a23",
   "metadata": {},
   "outputs": [],
   "source": [
    "import numpy as np\n",
    "import pandas as pd\n",
    "from pathlib import Path\n",
    "from collections import Counter\n",
    "from sklearn.ensemble import RandomForestClassifier\n",
    "from sklearn.preprocessing import StandardScaler\n",
    "from sklearn.model_selection import train_test_split\n",
    "from sklearn.metrics import confusion_matrix, accuracy_score, classification_report\n",
    "from sklearn.metrics import balanced_accuracy_score\n",
    "\n"
   ]
  },
  {
   "cell_type": "code",
   "execution_count": 3,
   "id": "b85ce1d4",
   "metadata": {},
   "outputs": [],
   "source": [
    "# Loading and preprocessing Data"
   ]
  },
  {
   "cell_type": "code",
   "execution_count": 4,
   "id": "98c6cd3f",
   "metadata": {},
   "outputs": [
    {
     "data": {
      "text/html": [
       "<div>\n",
       "<style scoped>\n",
       "    .dataframe tbody tr th:only-of-type {\n",
       "        vertical-align: middle;\n",
       "    }\n",
       "\n",
       "    .dataframe tbody tr th {\n",
       "        vertical-align: top;\n",
       "    }\n",
       "\n",
       "    .dataframe thead th {\n",
       "        text-align: right;\n",
       "    }\n",
       "</style>\n",
       "<table border=\"1\" class=\"dataframe\">\n",
       "  <thead>\n",
       "    <tr style=\"text-align: right;\">\n",
       "      <th></th>\n",
       "      <th>symbol</th>\n",
       "      <th>date</th>\n",
       "      <th>high</th>\n",
       "      <th>iexClose</th>\n",
       "      <th>industry</th>\n",
       "      <th>low</th>\n",
       "      <th>sector</th>\n",
       "      <th>volume</th>\n",
       "      <th>death</th>\n",
       "      <th>deathIncrease</th>\n",
       "      <th>hospitalizedIncrease</th>\n",
       "      <th>hospitalizedCurrently</th>\n",
       "      <th>negative</th>\n",
       "      <th>negativeIncrease</th>\n",
       "      <th>positive</th>\n",
       "      <th>positiveIncrease</th>\n",
       "      <th>totalTestResults</th>\n",
       "      <th>totalTestResultsIncrease</th>\n",
       "      <th>p_status</th>\n",
       "    </tr>\n",
       "  </thead>\n",
       "  <tbody>\n",
       "    <tr>\n",
       "      <th>0</th>\n",
       "      <td>PJUL</td>\n",
       "      <td>8/19/2020</td>\n",
       "      <td>27.84</td>\n",
       "      <td>27.710</td>\n",
       "      <td>Investment Trusts/Mutual Funds</td>\n",
       "      <td>27.76</td>\n",
       "      <td>Miscellaneous</td>\n",
       "      <td>3283</td>\n",
       "      <td>165088</td>\n",
       "      <td>1411</td>\n",
       "      <td>1983</td>\n",
       "      <td>43406</td>\n",
       "      <td>24462674</td>\n",
       "      <td>243232</td>\n",
       "      <td>5485765</td>\n",
       "      <td>45073</td>\n",
       "      <td>76356767</td>\n",
       "      <td>832115</td>\n",
       "      <td>1</td>\n",
       "    </tr>\n",
       "    <tr>\n",
       "      <th>1</th>\n",
       "      <td>PIM</td>\n",
       "      <td>8/19/2020</td>\n",
       "      <td>4.26</td>\n",
       "      <td>4.240</td>\n",
       "      <td>Investment Trusts/Mutual Funds</td>\n",
       "      <td>4.23</td>\n",
       "      <td>Miscellaneous</td>\n",
       "      <td>31824</td>\n",
       "      <td>165088</td>\n",
       "      <td>1411</td>\n",
       "      <td>1983</td>\n",
       "      <td>43406</td>\n",
       "      <td>24462674</td>\n",
       "      <td>243232</td>\n",
       "      <td>5485765</td>\n",
       "      <td>45073</td>\n",
       "      <td>76356767</td>\n",
       "      <td>832115</td>\n",
       "      <td>0</td>\n",
       "    </tr>\n",
       "    <tr>\n",
       "      <th>2</th>\n",
       "      <td>PJT</td>\n",
       "      <td>8/19/2020</td>\n",
       "      <td>59.67</td>\n",
       "      <td>58.885</td>\n",
       "      <td>Investment Banks/Brokers</td>\n",
       "      <td>58.60</td>\n",
       "      <td>Finance</td>\n",
       "      <td>23896</td>\n",
       "      <td>165088</td>\n",
       "      <td>1411</td>\n",
       "      <td>1983</td>\n",
       "      <td>43406</td>\n",
       "      <td>24462674</td>\n",
       "      <td>243232</td>\n",
       "      <td>5485765</td>\n",
       "      <td>45073</td>\n",
       "      <td>76356767</td>\n",
       "      <td>832115</td>\n",
       "      <td>1</td>\n",
       "    </tr>\n",
       "    <tr>\n",
       "      <th>3</th>\n",
       "      <td>PKBK</td>\n",
       "      <td>8/19/2020</td>\n",
       "      <td>13.46</td>\n",
       "      <td>13.460</td>\n",
       "      <td>Regional Banks</td>\n",
       "      <td>12.89</td>\n",
       "      <td>Finance</td>\n",
       "      <td>2365</td>\n",
       "      <td>165088</td>\n",
       "      <td>1411</td>\n",
       "      <td>1983</td>\n",
       "      <td>43406</td>\n",
       "      <td>24462674</td>\n",
       "      <td>243232</td>\n",
       "      <td>5485765</td>\n",
       "      <td>45073</td>\n",
       "      <td>76356767</td>\n",
       "      <td>832115</td>\n",
       "      <td>1</td>\n",
       "    </tr>\n",
       "    <tr>\n",
       "      <th>4</th>\n",
       "      <td>PICK</td>\n",
       "      <td>8/19/2020</td>\n",
       "      <td>28.49</td>\n",
       "      <td>28.380</td>\n",
       "      <td>Investment Trusts/Mutual Funds</td>\n",
       "      <td>28.25</td>\n",
       "      <td>Miscellaneous</td>\n",
       "      <td>71208</td>\n",
       "      <td>165088</td>\n",
       "      <td>1411</td>\n",
       "      <td>1983</td>\n",
       "      <td>43406</td>\n",
       "      <td>24462674</td>\n",
       "      <td>243232</td>\n",
       "      <td>5485765</td>\n",
       "      <td>45073</td>\n",
       "      <td>76356767</td>\n",
       "      <td>832115</td>\n",
       "      <td>Null</td>\n",
       "    </tr>\n",
       "  </tbody>\n",
       "</table>\n",
       "</div>"
      ],
      "text/plain": [
       "  symbol       date   high  iexClose                        industry    low  \\\n",
       "0   PJUL  8/19/2020  27.84    27.710  Investment Trusts/Mutual Funds  27.76   \n",
       "1    PIM  8/19/2020   4.26     4.240  Investment Trusts/Mutual Funds   4.23   \n",
       "2    PJT  8/19/2020  59.67    58.885        Investment Banks/Brokers  58.60   \n",
       "3   PKBK  8/19/2020  13.46    13.460                  Regional Banks  12.89   \n",
       "4   PICK  8/19/2020  28.49    28.380  Investment Trusts/Mutual Funds  28.25   \n",
       "\n",
       "          sector  volume   death  deathIncrease  hospitalizedIncrease  \\\n",
       "0  Miscellaneous    3283  165088           1411                  1983   \n",
       "1  Miscellaneous   31824  165088           1411                  1983   \n",
       "2        Finance   23896  165088           1411                  1983   \n",
       "3        Finance    2365  165088           1411                  1983   \n",
       "4  Miscellaneous   71208  165088           1411                  1983   \n",
       "\n",
       "   hospitalizedCurrently  negative  negativeIncrease  positive  \\\n",
       "0                  43406  24462674            243232   5485765   \n",
       "1                  43406  24462674            243232   5485765   \n",
       "2                  43406  24462674            243232   5485765   \n",
       "3                  43406  24462674            243232   5485765   \n",
       "4                  43406  24462674            243232   5485765   \n",
       "\n",
       "   positiveIncrease  totalTestResults  totalTestResultsIncrease p_status  \n",
       "0             45073          76356767                    832115        1  \n",
       "1             45073          76356767                    832115        0  \n",
       "2             45073          76356767                    832115        1  \n",
       "3             45073          76356767                    832115        1  \n",
       "4             45073          76356767                    832115     Null  "
      ]
     },
     "execution_count": 4,
     "metadata": {},
     "output_type": "execute_result"
    }
   ],
   "source": [
    "# Loading data\n",
    "file_path = Path(\"../EDA/Resources/cleaned_close1.csv\")\n",
    "df_equities = pd.read_csv(file_path)\n",
    "df_equities.head()"
   ]
  },
  {
   "cell_type": "code",
   "execution_count": 5,
   "id": "43da507d",
   "metadata": {
    "scrolled": false
   },
   "outputs": [
    {
     "name": "stdout",
     "output_type": "stream",
     "text": [
      "<class 'pandas.core.frame.DataFrame'>\n",
      "RangeIndex: 631360 entries, 0 to 631359\n",
      "Data columns (total 19 columns):\n",
      " #   Column                    Non-Null Count   Dtype  \n",
      "---  ------                    --------------   -----  \n",
      " 0   symbol                    631360 non-null  object \n",
      " 1   date                      631360 non-null  object \n",
      " 2   high                      631360 non-null  float64\n",
      " 3   iexClose                  631360 non-null  float64\n",
      " 4   industry                  631360 non-null  object \n",
      " 5   low                       631360 non-null  float64\n",
      " 6   sector                    631360 non-null  object \n",
      " 7   volume                    631360 non-null  int64  \n",
      " 8   death                     631360 non-null  int64  \n",
      " 9   deathIncrease             631360 non-null  int64  \n",
      " 10  hospitalizedIncrease      631360 non-null  int64  \n",
      " 11  hospitalizedCurrently     631360 non-null  int64  \n",
      " 12  negative                  631360 non-null  int64  \n",
      " 13  negativeIncrease          631360 non-null  int64  \n",
      " 14  positive                  631360 non-null  int64  \n",
      " 15  positiveIncrease          631360 non-null  int64  \n",
      " 16  totalTestResults          631360 non-null  int64  \n",
      " 17  totalTestResultsIncrease  631360 non-null  int64  \n",
      " 18  p_status                  630880 non-null  object \n",
      "dtypes: float64(3), int64(11), object(5)\n",
      "memory usage: 91.5+ MB\n"
     ]
    }
   ],
   "source": [
    "df_equities.info()"
   ]
  },
  {
   "cell_type": "code",
   "execution_count": 6,
   "id": "fd0f923e",
   "metadata": {
    "scrolled": true
   },
   "outputs": [],
   "source": [
    "\n",
    "# Drop the null columns where all values are null\n",
    "df_equities = df_equities.dropna(axis='columns', how='all')\n",
    "\n",
    "# Drop the null rows\n",
    "df_equities = df_equities.dropna(how='any')\n",
    "df_equities.drop(df_equities.loc[df_equities['p_status']== \"Null\"].index, inplace=True)\n",
    "df_equities = df_equities.drop(columns = ['symbol','date','industry','sector'])"
   ]
  },
  {
   "cell_type": "code",
   "execution_count": 7,
   "id": "8ab6e36e",
   "metadata": {},
   "outputs": [
    {
     "name": "stdout",
     "output_type": "stream",
     "text": [
      "<class 'pandas.core.frame.DataFrame'>\n",
      "Int64Index: 570400 entries, 0 to 631359\n",
      "Data columns (total 15 columns):\n",
      " #   Column                    Non-Null Count   Dtype  \n",
      "---  ------                    --------------   -----  \n",
      " 0   high                      570400 non-null  float64\n",
      " 1   iexClose                  570400 non-null  float64\n",
      " 2   low                       570400 non-null  float64\n",
      " 3   volume                    570400 non-null  int64  \n",
      " 4   death                     570400 non-null  int64  \n",
      " 5   deathIncrease             570400 non-null  int64  \n",
      " 6   hospitalizedIncrease      570400 non-null  int64  \n",
      " 7   hospitalizedCurrently     570400 non-null  int64  \n",
      " 8   negative                  570400 non-null  int64  \n",
      " 9   negativeIncrease          570400 non-null  int64  \n",
      " 10  positive                  570400 non-null  int64  \n",
      " 11  positiveIncrease          570400 non-null  int64  \n",
      " 12  totalTestResults          570400 non-null  int64  \n",
      " 13  totalTestResultsIncrease  570400 non-null  int64  \n",
      " 14  p_status                  570400 non-null  object \n",
      "dtypes: float64(3), int64(11), object(1)\n",
      "memory usage: 69.6+ MB\n"
     ]
    }
   ],
   "source": [
    "df_equities.info()"
   ]
  },
  {
   "cell_type": "code",
   "execution_count": 8,
   "id": "0b6032ff",
   "metadata": {},
   "outputs": [
    {
     "data": {
      "text/html": [
       "<div>\n",
       "<style scoped>\n",
       "    .dataframe tbody tr th:only-of-type {\n",
       "        vertical-align: middle;\n",
       "    }\n",
       "\n",
       "    .dataframe tbody tr th {\n",
       "        vertical-align: top;\n",
       "    }\n",
       "\n",
       "    .dataframe thead th {\n",
       "        text-align: right;\n",
       "    }\n",
       "</style>\n",
       "<table border=\"1\" class=\"dataframe\">\n",
       "  <thead>\n",
       "    <tr style=\"text-align: right;\">\n",
       "      <th></th>\n",
       "      <th>high</th>\n",
       "      <th>iexClose</th>\n",
       "      <th>low</th>\n",
       "      <th>volume</th>\n",
       "      <th>death</th>\n",
       "      <th>deathIncrease</th>\n",
       "      <th>hospitalizedIncrease</th>\n",
       "      <th>hospitalizedCurrently</th>\n",
       "      <th>negative</th>\n",
       "      <th>negativeIncrease</th>\n",
       "      <th>positive</th>\n",
       "      <th>positiveIncrease</th>\n",
       "      <th>totalTestResults</th>\n",
       "      <th>totalTestResultsIncrease</th>\n",
       "    </tr>\n",
       "  </thead>\n",
       "  <tbody>\n",
       "    <tr>\n",
       "      <th>0</th>\n",
       "      <td>27.84</td>\n",
       "      <td>27.710</td>\n",
       "      <td>27.76</td>\n",
       "      <td>3283</td>\n",
       "      <td>165088</td>\n",
       "      <td>1411</td>\n",
       "      <td>1983</td>\n",
       "      <td>43406</td>\n",
       "      <td>24462674</td>\n",
       "      <td>243232</td>\n",
       "      <td>5485765</td>\n",
       "      <td>45073</td>\n",
       "      <td>76356767</td>\n",
       "      <td>832115</td>\n",
       "    </tr>\n",
       "    <tr>\n",
       "      <th>1</th>\n",
       "      <td>4.26</td>\n",
       "      <td>4.240</td>\n",
       "      <td>4.23</td>\n",
       "      <td>31824</td>\n",
       "      <td>165088</td>\n",
       "      <td>1411</td>\n",
       "      <td>1983</td>\n",
       "      <td>43406</td>\n",
       "      <td>24462674</td>\n",
       "      <td>243232</td>\n",
       "      <td>5485765</td>\n",
       "      <td>45073</td>\n",
       "      <td>76356767</td>\n",
       "      <td>832115</td>\n",
       "    </tr>\n",
       "    <tr>\n",
       "      <th>2</th>\n",
       "      <td>59.67</td>\n",
       "      <td>58.885</td>\n",
       "      <td>58.60</td>\n",
       "      <td>23896</td>\n",
       "      <td>165088</td>\n",
       "      <td>1411</td>\n",
       "      <td>1983</td>\n",
       "      <td>43406</td>\n",
       "      <td>24462674</td>\n",
       "      <td>243232</td>\n",
       "      <td>5485765</td>\n",
       "      <td>45073</td>\n",
       "      <td>76356767</td>\n",
       "      <td>832115</td>\n",
       "    </tr>\n",
       "    <tr>\n",
       "      <th>3</th>\n",
       "      <td>13.46</td>\n",
       "      <td>13.460</td>\n",
       "      <td>12.89</td>\n",
       "      <td>2365</td>\n",
       "      <td>165088</td>\n",
       "      <td>1411</td>\n",
       "      <td>1983</td>\n",
       "      <td>43406</td>\n",
       "      <td>24462674</td>\n",
       "      <td>243232</td>\n",
       "      <td>5485765</td>\n",
       "      <td>45073</td>\n",
       "      <td>76356767</td>\n",
       "      <td>832115</td>\n",
       "    </tr>\n",
       "    <tr>\n",
       "      <th>5</th>\n",
       "      <td>8.77</td>\n",
       "      <td>8.605</td>\n",
       "      <td>8.44</td>\n",
       "      <td>2894906</td>\n",
       "      <td>165088</td>\n",
       "      <td>1411</td>\n",
       "      <td>1983</td>\n",
       "      <td>43406</td>\n",
       "      <td>24462674</td>\n",
       "      <td>243232</td>\n",
       "      <td>5485765</td>\n",
       "      <td>45073</td>\n",
       "      <td>76356767</td>\n",
       "      <td>832115</td>\n",
       "    </tr>\n",
       "  </tbody>\n",
       "</table>\n",
       "</div>"
      ],
      "text/plain": [
       "    high  iexClose    low   volume   death  deathIncrease  \\\n",
       "0  27.84    27.710  27.76     3283  165088           1411   \n",
       "1   4.26     4.240   4.23    31824  165088           1411   \n",
       "2  59.67    58.885  58.60    23896  165088           1411   \n",
       "3  13.46    13.460  12.89     2365  165088           1411   \n",
       "5   8.77     8.605   8.44  2894906  165088           1411   \n",
       "\n",
       "   hospitalizedIncrease  hospitalizedCurrently  negative  negativeIncrease  \\\n",
       "0                  1983                  43406  24462674            243232   \n",
       "1                  1983                  43406  24462674            243232   \n",
       "2                  1983                  43406  24462674            243232   \n",
       "3                  1983                  43406  24462674            243232   \n",
       "5                  1983                  43406  24462674            243232   \n",
       "\n",
       "   positive  positiveIncrease  totalTestResults  totalTestResultsIncrease  \n",
       "0   5485765             45073          76356767                    832115  \n",
       "1   5485765             45073          76356767                    832115  \n",
       "2   5485765             45073          76356767                    832115  \n",
       "3   5485765             45073          76356767                    832115  \n",
       "5   5485765             45073          76356767                    832115  "
      ]
     },
     "execution_count": 8,
     "metadata": {},
     "output_type": "execute_result"
    }
   ],
   "source": [
    "# Create our features\n",
    "#X = pd.get_dummies(df_equities, columns=[\"death\", \"deathIncrease\", \"hospitalizedIncrease\", \"hospitalizedCurrently\", \"negative\", \"positive\", \"totalTestResults\", \"totalTestResultsIncrease\"])\n",
    "X = df_equities.drop('p_status',axis=1)\n",
    "# Create our target\n",
    "y = pd.DataFrame(df_equities[\"p_status\"])\n",
    "X.head()"
   ]
  },
  {
   "cell_type": "code",
   "execution_count": 9,
   "id": "f5d8c416",
   "metadata": {},
   "outputs": [
    {
     "name": "stdout",
     "output_type": "stream",
     "text": [
      "<class 'pandas.core.frame.DataFrame'>\n",
      "Int64Index: 570400 entries, 0 to 631359\n",
      "Data columns (total 14 columns):\n",
      " #   Column                    Non-Null Count   Dtype  \n",
      "---  ------                    --------------   -----  \n",
      " 0   high                      570400 non-null  float64\n",
      " 1   iexClose                  570400 non-null  float64\n",
      " 2   low                       570400 non-null  float64\n",
      " 3   volume                    570400 non-null  int64  \n",
      " 4   death                     570400 non-null  int64  \n",
      " 5   deathIncrease             570400 non-null  int64  \n",
      " 6   hospitalizedIncrease      570400 non-null  int64  \n",
      " 7   hospitalizedCurrently     570400 non-null  int64  \n",
      " 8   negative                  570400 non-null  int64  \n",
      " 9   negativeIncrease          570400 non-null  int64  \n",
      " 10  positive                  570400 non-null  int64  \n",
      " 11  positiveIncrease          570400 non-null  int64  \n",
      " 12  totalTestResults          570400 non-null  int64  \n",
      " 13  totalTestResultsIncrease  570400 non-null  int64  \n",
      "dtypes: float64(3), int64(11)\n",
      "memory usage: 65.3 MB\n"
     ]
    }
   ],
   "source": [
    "X.info()"
   ]
  },
  {
   "cell_type": "code",
   "execution_count": 10,
   "id": "9aad20f7",
   "metadata": {
    "scrolled": false
   },
   "outputs": [
    {
     "data": {
      "text/html": [
       "<div>\n",
       "<style scoped>\n",
       "    .dataframe tbody tr th:only-of-type {\n",
       "        vertical-align: middle;\n",
       "    }\n",
       "\n",
       "    .dataframe tbody tr th {\n",
       "        vertical-align: top;\n",
       "    }\n",
       "\n",
       "    .dataframe thead th {\n",
       "        text-align: right;\n",
       "    }\n",
       "</style>\n",
       "<table border=\"1\" class=\"dataframe\">\n",
       "  <thead>\n",
       "    <tr style=\"text-align: right;\">\n",
       "      <th></th>\n",
       "      <th>high</th>\n",
       "      <th>iexClose</th>\n",
       "      <th>low</th>\n",
       "      <th>volume</th>\n",
       "      <th>death</th>\n",
       "      <th>deathIncrease</th>\n",
       "      <th>hospitalizedIncrease</th>\n",
       "      <th>hospitalizedCurrently</th>\n",
       "      <th>negative</th>\n",
       "      <th>negativeIncrease</th>\n",
       "      <th>positive</th>\n",
       "      <th>positiveIncrease</th>\n",
       "      <th>totalTestResults</th>\n",
       "      <th>totalTestResultsIncrease</th>\n",
       "    </tr>\n",
       "  </thead>\n",
       "  <tbody>\n",
       "    <tr>\n",
       "      <th>count</th>\n",
       "      <td>570400.000000</td>\n",
       "      <td>570400.000000</td>\n",
       "      <td>570400.000000</td>\n",
       "      <td>5.704000e+05</td>\n",
       "      <td>570400.000000</td>\n",
       "      <td>570400.000000</td>\n",
       "      <td>570400.000000</td>\n",
       "      <td>570400.000000</td>\n",
       "      <td>5.704000e+05</td>\n",
       "      <td>570400.000000</td>\n",
       "      <td>5.704000e+05</td>\n",
       "      <td>570400.000000</td>\n",
       "      <td>5.704000e+05</td>\n",
       "      <td>5.704000e+05</td>\n",
       "    </tr>\n",
       "    <tr>\n",
       "      <th>mean</th>\n",
       "      <td>42.658513</td>\n",
       "      <td>44.234890</td>\n",
       "      <td>41.554962</td>\n",
       "      <td>9.234301e+05</td>\n",
       "      <td>221402.550000</td>\n",
       "      <td>1275.587500</td>\n",
       "      <td>2559.187500</td>\n",
       "      <td>56305.500000</td>\n",
       "      <td>3.922507e+07</td>\n",
       "      <td>250182.412500</td>\n",
       "      <td>9.540573e+06</td>\n",
       "      <td>99462.837500</td>\n",
       "      <td>1.438905e+08</td>\n",
       "      <td>1.276617e+06</td>\n",
       "    </tr>\n",
       "    <tr>\n",
       "      <th>std</th>\n",
       "      <td>107.594631</td>\n",
       "      <td>108.536875</td>\n",
       "      <td>104.526355</td>\n",
       "      <td>6.664651e+06</td>\n",
       "      <td>38625.202612</td>\n",
       "      <td>801.742567</td>\n",
       "      <td>1341.234424</td>\n",
       "      <td>29470.053439</td>\n",
       "      <td>9.169443e+06</td>\n",
       "      <td>124213.055681</td>\n",
       "      <td>3.574027e+06</td>\n",
       "      <td>68021.723619</td>\n",
       "      <td>4.674591e+07</td>\n",
       "      <td>4.017369e+05</td>\n",
       "    </tr>\n",
       "    <tr>\n",
       "      <th>min</th>\n",
       "      <td>0.000000</td>\n",
       "      <td>0.022900</td>\n",
       "      <td>0.000000</td>\n",
       "      <td>0.000000e+00</td>\n",
       "      <td>165088.000000</td>\n",
       "      <td>246.000000</td>\n",
       "      <td>-752.000000</td>\n",
       "      <td>28849.000000</td>\n",
       "      <td>2.446267e+07</td>\n",
       "      <td>-658774.000000</td>\n",
       "      <td>5.485765e+06</td>\n",
       "      <td>22310.000000</td>\n",
       "      <td>7.635677e+07</td>\n",
       "      <td>5.468590e+05</td>\n",
       "    </tr>\n",
       "    <tr>\n",
       "      <th>25%</th>\n",
       "      <td>8.160000</td>\n",
       "      <td>9.640000</td>\n",
       "      <td>7.805000</td>\n",
       "      <td>1.353775e+04</td>\n",
       "      <td>192707.250000</td>\n",
       "      <td>851.500000</td>\n",
       "      <td>1518.250000</td>\n",
       "      <td>32712.000000</td>\n",
       "      <td>3.177611e+07</td>\n",
       "      <td>212750.750000</td>\n",
       "      <td>6.823470e+06</td>\n",
       "      <td>43793.500000</td>\n",
       "      <td>1.053408e+08</td>\n",
       "      <td>9.472560e+05</td>\n",
       "    </tr>\n",
       "    <tr>\n",
       "      <th>50%</th>\n",
       "      <td>22.340000</td>\n",
       "      <td>23.460000</td>\n",
       "      <td>21.750000</td>\n",
       "      <td>9.192850e+04</td>\n",
       "      <td>212496.500000</td>\n",
       "      <td>1049.000000</td>\n",
       "      <td>2136.000000</td>\n",
       "      <td>41083.000000</td>\n",
       "      <td>3.823387e+07</td>\n",
       "      <td>260824.500000</td>\n",
       "      <td>8.174878e+06</td>\n",
       "      <td>63143.000000</td>\n",
       "      <td>1.356483e+08</td>\n",
       "      <td>1.169490e+06</td>\n",
       "    </tr>\n",
       "    <tr>\n",
       "      <th>75%</th>\n",
       "      <td>43.980000</td>\n",
       "      <td>45.480000</td>\n",
       "      <td>42.865000</td>\n",
       "      <td>4.433702e+05</td>\n",
       "      <td>242672.500000</td>\n",
       "      <td>1371.250000</td>\n",
       "      <td>3486.250000</td>\n",
       "      <td>79775.750000</td>\n",
       "      <td>4.651287e+07</td>\n",
       "      <td>304880.250000</td>\n",
       "      <td>1.158534e+07</td>\n",
       "      <td>161495.250000</td>\n",
       "      <td>1.777278e+08</td>\n",
       "      <td>1.639021e+06</td>\n",
       "    </tr>\n",
       "    <tr>\n",
       "      <th>max</th>\n",
       "      <td>4530.000000</td>\n",
       "      <td>4474.000000</td>\n",
       "      <td>4382.550000</td>\n",
       "      <td>1.864680e+09</td>\n",
       "      <td>317492.000000</td>\n",
       "      <td>3453.000000</td>\n",
       "      <td>5411.000000</td>\n",
       "      <td>119463.000000</td>\n",
       "      <td>5.674314e+07</td>\n",
       "      <td>456078.000000</td>\n",
       "      <td>1.836721e+07</td>\n",
       "      <td>236933.000000</td>\n",
       "      <td>2.412239e+08</td>\n",
       "      <td>2.010951e+06</td>\n",
       "    </tr>\n",
       "  </tbody>\n",
       "</table>\n",
       "</div>"
      ],
      "text/plain": [
       "                high       iexClose            low        volume  \\\n",
       "count  570400.000000  570400.000000  570400.000000  5.704000e+05   \n",
       "mean       42.658513      44.234890      41.554962  9.234301e+05   \n",
       "std       107.594631     108.536875     104.526355  6.664651e+06   \n",
       "min         0.000000       0.022900       0.000000  0.000000e+00   \n",
       "25%         8.160000       9.640000       7.805000  1.353775e+04   \n",
       "50%        22.340000      23.460000      21.750000  9.192850e+04   \n",
       "75%        43.980000      45.480000      42.865000  4.433702e+05   \n",
       "max      4530.000000    4474.000000    4382.550000  1.864680e+09   \n",
       "\n",
       "               death  deathIncrease  hospitalizedIncrease  \\\n",
       "count  570400.000000  570400.000000         570400.000000   \n",
       "mean   221402.550000    1275.587500           2559.187500   \n",
       "std     38625.202612     801.742567           1341.234424   \n",
       "min    165088.000000     246.000000           -752.000000   \n",
       "25%    192707.250000     851.500000           1518.250000   \n",
       "50%    212496.500000    1049.000000           2136.000000   \n",
       "75%    242672.500000    1371.250000           3486.250000   \n",
       "max    317492.000000    3453.000000           5411.000000   \n",
       "\n",
       "       hospitalizedCurrently      negative  negativeIncrease      positive  \\\n",
       "count          570400.000000  5.704000e+05     570400.000000  5.704000e+05   \n",
       "mean            56305.500000  3.922507e+07     250182.412500  9.540573e+06   \n",
       "std             29470.053439  9.169443e+06     124213.055681  3.574027e+06   \n",
       "min             28849.000000  2.446267e+07    -658774.000000  5.485765e+06   \n",
       "25%             32712.000000  3.177611e+07     212750.750000  6.823470e+06   \n",
       "50%             41083.000000  3.823387e+07     260824.500000  8.174878e+06   \n",
       "75%             79775.750000  4.651287e+07     304880.250000  1.158534e+07   \n",
       "max            119463.000000  5.674314e+07     456078.000000  1.836721e+07   \n",
       "\n",
       "       positiveIncrease  totalTestResults  totalTestResultsIncrease  \n",
       "count     570400.000000      5.704000e+05              5.704000e+05  \n",
       "mean       99462.837500      1.438905e+08              1.276617e+06  \n",
       "std        68021.723619      4.674591e+07              4.017369e+05  \n",
       "min        22310.000000      7.635677e+07              5.468590e+05  \n",
       "25%        43793.500000      1.053408e+08              9.472560e+05  \n",
       "50%        63143.000000      1.356483e+08              1.169490e+06  \n",
       "75%       161495.250000      1.777278e+08              1.639021e+06  \n",
       "max       236933.000000      2.412239e+08              2.010951e+06  "
      ]
     },
     "execution_count": 10,
     "metadata": {},
     "output_type": "execute_result"
    }
   ],
   "source": [
    "X.describe()"
   ]
  },
  {
   "cell_type": "code",
   "execution_count": 11,
   "id": "fddfd7ad",
   "metadata": {},
   "outputs": [
    {
     "data": {
      "text/plain": [
       "1    314960\n",
       "0    255440\n",
       "Name: p_status, dtype: int64"
      ]
     },
     "execution_count": 11,
     "metadata": {},
     "output_type": "execute_result"
    }
   ],
   "source": [
    "# Check the balance of our target values\n",
    "y['p_status'].value_counts()"
   ]
  },
  {
   "cell_type": "code",
   "execution_count": 12,
   "id": "8ea87baa",
   "metadata": {},
   "outputs": [
    {
     "data": {
      "text/html": [
       "<div>\n",
       "<style scoped>\n",
       "    .dataframe tbody tr th:only-of-type {\n",
       "        vertical-align: middle;\n",
       "    }\n",
       "\n",
       "    .dataframe tbody tr th {\n",
       "        vertical-align: top;\n",
       "    }\n",
       "\n",
       "    .dataframe thead th {\n",
       "        text-align: right;\n",
       "    }\n",
       "</style>\n",
       "<table border=\"1\" class=\"dataframe\">\n",
       "  <thead>\n",
       "    <tr style=\"text-align: right;\">\n",
       "      <th></th>\n",
       "      <th>p_status</th>\n",
       "    </tr>\n",
       "  </thead>\n",
       "  <tbody>\n",
       "    <tr>\n",
       "      <th>0</th>\n",
       "      <td>1</td>\n",
       "    </tr>\n",
       "    <tr>\n",
       "      <th>1</th>\n",
       "      <td>0</td>\n",
       "    </tr>\n",
       "    <tr>\n",
       "      <th>2</th>\n",
       "      <td>1</td>\n",
       "    </tr>\n",
       "    <tr>\n",
       "      <th>3</th>\n",
       "      <td>1</td>\n",
       "    </tr>\n",
       "    <tr>\n",
       "      <th>5</th>\n",
       "      <td>1</td>\n",
       "    </tr>\n",
       "  </tbody>\n",
       "</table>\n",
       "</div>"
      ],
      "text/plain": [
       "  p_status\n",
       "0        1\n",
       "1        0\n",
       "2        1\n",
       "3        1\n",
       "5        1"
      ]
     },
     "execution_count": 12,
     "metadata": {},
     "output_type": "execute_result"
    }
   ],
   "source": [
    "y.head()"
   ]
  },
  {
   "cell_type": "code",
   "execution_count": 13,
   "id": "799f2ed0",
   "metadata": {},
   "outputs": [],
   "source": [
    "# Splitting into Train and Test sets.\n",
    "X_train, X_test, y_train, y_test = train_test_split(X, y, random_state=78)"
   ]
  },
  {
   "cell_type": "code",
   "execution_count": 14,
   "id": "a7c190fe",
   "metadata": {},
   "outputs": [],
   "source": [
    "# Creating a StandardScaler instance.\n",
    "scaler = StandardScaler()\n",
    "# Fitting the Standard Scaler with the training data.\n",
    "X_scaler = scaler.fit(X_train)\n",
    "\n",
    "# Scaling the data.\n",
    "X_train_scaled = X_scaler.transform(X_train)\n",
    "X_test_scaled = X_scaler.transform(X_test)"
   ]
  },
  {
   "cell_type": "code",
   "execution_count": 15,
   "id": "06b2cda6",
   "metadata": {},
   "outputs": [],
   "source": [
    "# Create a random forest classifier.\n",
    "rf_model = RandomForestClassifier(n_estimators=200, random_state=78) "
   ]
  },
  {
   "cell_type": "code",
   "execution_count": 16,
   "id": "61bd643a",
   "metadata": {},
   "outputs": [],
   "source": [
    "# Fitting the model\n",
    "rf_model = rf_model.fit(X_train_scaled, y_train)"
   ]
  },
  {
   "cell_type": "code",
   "execution_count": 17,
   "id": "fd7c8caf",
   "metadata": {},
   "outputs": [],
   "source": [
    "# Making predictions using the testing data.\n",
    "predictions = rf_model.predict(X_test_scaled)"
   ]
  },
  {
   "cell_type": "code",
   "execution_count": 18,
   "id": "d9314490",
   "metadata": {},
   "outputs": [
    {
     "data": {
      "text/plain": [
       "array(['0', '0', '0', ..., '1', '1', '0'], dtype=object)"
      ]
     },
     "execution_count": 18,
     "metadata": {},
     "output_type": "execute_result"
    }
   ],
   "source": [
    "predictions"
   ]
  },
  {
   "cell_type": "code",
   "execution_count": 19,
   "id": "61666e23",
   "metadata": {
    "scrolled": true
   },
   "outputs": [
    {
     "data": {
      "text/plain": [
       "0.5282653844605326"
      ]
     },
     "execution_count": 19,
     "metadata": {},
     "output_type": "execute_result"
    }
   ],
   "source": [
    "# Calculated the balanced accuracy score\n",
    "balanced_accuracy_score(y_test, predictions)"
   ]
  },
  {
   "cell_type": "code",
   "execution_count": 20,
   "id": "882d4b26",
   "metadata": {},
   "outputs": [
    {
     "data": {
      "text/plain": [
       "array([[26796, 37280],\n",
       "       [28399, 50125]], dtype=int64)"
      ]
     },
     "execution_count": 20,
     "metadata": {},
     "output_type": "execute_result"
    }
   ],
   "source": [
    "# Display the confusion matrix\n",
    "confusion_matrix(y_test, predictions)"
   ]
  },
  {
   "cell_type": "code",
   "execution_count": 21,
   "id": "75cff3e5",
   "metadata": {},
   "outputs": [
    {
     "data": {
      "text/plain": [
       "array([0.20639424, 0.23271716, 0.20541893, 0.24388101, 0.0102327 ,\n",
       "       0.0121559 , 0.01184118, 0.0108975 , 0.01026902, 0.01233703,\n",
       "       0.0102261 , 0.01150768, 0.01021961, 0.01190195])"
      ]
     },
     "execution_count": 21,
     "metadata": {},
     "output_type": "execute_result"
    }
   ],
   "source": [
    "# Calculate feature importance in the Random Forest model.\n",
    "importances = rf_model.feature_importances_\n",
    "importances"
   ]
  },
  {
   "cell_type": "code",
   "execution_count": 22,
   "id": "f1a33da6",
   "metadata": {},
   "outputs": [
    {
     "data": {
      "text/plain": [
       "[(0.24388101486880567, 'volume'),\n",
       " (0.2327171584265753, 'iexClose'),\n",
       " (0.20639423604364684, 'high'),\n",
       " (0.20541893297913502, 'low'),\n",
       " (0.012337027120412757, 'negativeIncrease'),\n",
       " (0.012155899753590615, 'deathIncrease'),\n",
       " (0.01190194562891143, 'totalTestResultsIncrease'),\n",
       " (0.011841178116528276, 'hospitalizedIncrease'),\n",
       " (0.011507683736513693, 'positiveIncrease'),\n",
       " (0.0108974983861549, 'hospitalizedCurrently'),\n",
       " (0.010269019847264914, 'negative'),\n",
       " (0.010232699357882371, 'death'),\n",
       " (0.010226099766817447, 'positive'),\n",
       " (0.010219605967760679, 'totalTestResults')]"
      ]
     },
     "execution_count": 22,
     "metadata": {},
     "output_type": "execute_result"
    }
   ],
   "source": [
    "# We can sort the features by their importance.\n",
    "sorted(zip(rf_model.feature_importances_, X.columns), reverse=True)"
   ]
  },
  {
   "cell_type": "code",
   "execution_count": 24,
   "id": "7e4fd2a1",
   "metadata": {},
   "outputs": [
    {
     "name": "stdout",
     "output_type": "stream",
     "text": [
      "                   pre       rec       spe        f1       geo       iba       sup\n",
      "\n",
      "          0       0.49      0.42      0.64      0.45      0.52      0.26     64076\n",
      "          1       0.57      0.64      0.42      0.60      0.52      0.27     78524\n",
      "\n",
      "avg / total       0.53      0.54      0.52      0.53      0.52      0.27    142600\n",
      "\n"
     ]
    }
   ],
   "source": [
    "# Print the imbalanced classification report\n",
    "from imblearn.metrics import classification_report_imbalanced\n",
    "print(classification_report_imbalanced(y_test, predictions))"
   ]
  },
  {
   "cell_type": "code",
   "execution_count": null,
   "id": "c06434fb",
   "metadata": {},
   "outputs": [],
   "source": []
  }
 ],
 "metadata": {
  "kernelspec": {
   "display_name": "mlenv",
   "language": "python",
   "name": "mlenv"
  },
  "language_info": {
   "codemirror_mode": {
    "name": "ipython",
    "version": 3
   },
   "file_extension": ".py",
   "mimetype": "text/x-python",
   "name": "python",
   "nbconvert_exporter": "python",
   "pygments_lexer": "ipython3",
   "version": "3.7.11"
  }
 },
 "nbformat": 4,
 "nbformat_minor": 5
}
