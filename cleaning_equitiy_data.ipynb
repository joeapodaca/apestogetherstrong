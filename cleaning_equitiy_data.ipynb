{
 "cells": [
  {
   "cell_type": "code",
   "execution_count": 1,
   "metadata": {},
   "outputs": [],
   "source": [
    "# Add the Pandas dependency\n",
    "import pandas as pd\n",
    "import numpy as np\n",
    "import os\n",
    "\n",
    "# Files to load\n",
    "equities_data_to_load = os.path.join(\"Resources/Equities.csv\")\n",
    "\n"
   ]
  },
  {
   "cell_type": "code",
   "execution_count": 2,
   "metadata": {},
   "outputs": [
    {
     "name": "stderr",
     "output_type": "stream",
     "text": [
      "C:\\Users\\sully\\anaconda3\\envs\\PythonData\\lib\\site-packages\\IPython\\core\\interactiveshell.py:3072: DtypeWarning: Columns (51,69,77) have mixed types.Specify dtype option on import or set low_memory=False.\n",
      "  interactivity=interactivity, compiler=compiler, result=result)\n"
     ]
    }
   ],
   "source": [
    "# Read the equities data file and store it in a Pandas DataFrame\n",
    "equities_data_df = pd.read_csv(equities_data_to_load)\n",
    "\n"
   ]
  },
  {
   "cell_type": "code",
   "execution_count": 3,
   "metadata": {},
   "outputs": [
    {
     "data": {
      "text/plain": [
       "symbol                 object\n",
       "date                   object\n",
       "CEO                    object\n",
       "address                object\n",
       "address2               object\n",
       "                       ...   \n",
       "year2ChangePercent    float64\n",
       "year5ChangePercent    float64\n",
       "ytdChange             float64\n",
       "ytdChangePercent      float64\n",
       "zip                    object\n",
       "Length: 100, dtype: object"
      ]
     },
     "execution_count": 3,
     "metadata": {},
     "output_type": "execute_result"
    }
   ],
   "source": [
    "# Determine the data types for equities DataFrame\n",
    "equities_data_df.dtypes"
   ]
  },
  {
   "cell_type": "code",
   "execution_count": 4,
   "metadata": {},
   "outputs": [],
   "source": [
    "# equities_data_df.drop(columns=['B', 'C'])\n",
    "\n",
    "equities_data_df2 = equities_data_df[['symbol', 'companyName', 'industry']]\n",
    "\n"
   ]
  },
  {
   "cell_type": "code",
   "execution_count": 6,
   "metadata": {},
   "outputs": [
    {
     "data": {
      "text/html": [
       "<div>\n",
       "<style scoped>\n",
       "    .dataframe tbody tr th:only-of-type {\n",
       "        vertical-align: middle;\n",
       "    }\n",
       "\n",
       "    .dataframe tbody tr th {\n",
       "        vertical-align: top;\n",
       "    }\n",
       "\n",
       "    .dataframe thead th {\n",
       "        text-align: right;\n",
       "    }\n",
       "</style>\n",
       "<table border=\"1\" class=\"dataframe\">\n",
       "  <thead>\n",
       "    <tr style=\"text-align: right;\">\n",
       "      <th></th>\n",
       "      <th>symbol</th>\n",
       "      <th>companyName</th>\n",
       "      <th>industry</th>\n",
       "    </tr>\n",
       "  </thead>\n",
       "  <tbody>\n",
       "    <tr>\n",
       "      <th>0</th>\n",
       "      <td>PJUL</td>\n",
       "      <td>Innovator S&amp;P 500 Power Buffer ETF - July</td>\n",
       "      <td>Investment Trusts/Mutual Funds</td>\n",
       "    </tr>\n",
       "    <tr>\n",
       "      <th>1</th>\n",
       "      <td>PIM</td>\n",
       "      <td>Putnam Master Intermediate Income Trust</td>\n",
       "      <td>Investment Trusts/Mutual Funds</td>\n",
       "    </tr>\n",
       "    <tr>\n",
       "      <th>2</th>\n",
       "      <td>PJH</td>\n",
       "      <td>Prudential Financial, Inc.</td>\n",
       "      <td>Financial Conglomerates</td>\n",
       "    </tr>\n",
       "    <tr>\n",
       "      <th>3</th>\n",
       "      <td>PJT</td>\n",
       "      <td>PJT Partners, Inc.</td>\n",
       "      <td>Investment Banks/Brokers</td>\n",
       "    </tr>\n",
       "    <tr>\n",
       "      <th>4</th>\n",
       "      <td>PKBK</td>\n",
       "      <td>Parke Bancorp, Inc.</td>\n",
       "      <td>Regional Banks</td>\n",
       "    </tr>\n",
       "  </tbody>\n",
       "</table>\n",
       "</div>"
      ],
      "text/plain": [
       "  symbol                                companyName  \\\n",
       "0   PJUL  Innovator S&P 500 Power Buffer ETF - July   \n",
       "1    PIM    Putnam Master Intermediate Income Trust   \n",
       "2    PJH                 Prudential Financial, Inc.   \n",
       "3    PJT                         PJT Partners, Inc.   \n",
       "4   PKBK                        Parke Bancorp, Inc.   \n",
       "\n",
       "                         industry  \n",
       "0  Investment Trusts/Mutual Funds  \n",
       "1  Investment Trusts/Mutual Funds  \n",
       "2         Financial Conglomerates  \n",
       "3        Investment Banks/Brokers  \n",
       "4                  Regional Banks  "
      ]
     },
     "execution_count": 6,
     "metadata": {},
     "output_type": "execute_result"
    }
   ],
   "source": [
    "equities_data_df2.head()"
   ]
  },
  {
   "cell_type": "code",
   "execution_count": null,
   "metadata": {},
   "outputs": [],
   "source": []
  }
 ],
 "metadata": {
  "kernelspec": {
   "display_name": "PythonData",
   "language": "python",
   "name": "pythondata"
  },
  "language_info": {
   "codemirror_mode": {
    "name": "ipython",
    "version": 3
   },
   "file_extension": ".py",
   "mimetype": "text/x-python",
   "name": "python",
   "nbconvert_exporter": "python",
   "pygments_lexer": "ipython3",
   "version": "3.6.10"
  }
 },
 "nbformat": 4,
 "nbformat_minor": 4
}
