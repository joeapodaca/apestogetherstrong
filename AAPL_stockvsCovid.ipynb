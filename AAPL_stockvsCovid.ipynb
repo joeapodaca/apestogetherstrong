{
 "cells": [
  {
   "cell_type": "code",
   "execution_count": 1,
   "id": "fcf3da6d",
   "metadata": {},
   "outputs": [],
   "source": [
    "# Import dependencies.\n",
    "import matplotlib.pyplot as plt\n",
    "import pandas as pd"
   ]
  },
  {
   "cell_type": "code",
   "execution_count": 2,
   "id": "4b6abe8a",
   "metadata": {},
   "outputs": [],
   "source": [
    "# Read in our data\n",
    "equities_df = pd.read_csv(\"resources/cleaned_close.csv\")"
   ]
  },
  {
   "cell_type": "code",
   "execution_count": 3,
   "id": "0f6e2f8f",
   "metadata": {},
   "outputs": [],
   "source": [
    "aapl_df = equities_df.loc[equities_df['symbol'] == \"AAPL\"]"
   ]
  },
  {
   "cell_type": "code",
   "execution_count": 4,
   "id": "dc13785b",
   "metadata": {},
   "outputs": [
    {
     "data": {
      "text/html": [
       "<div>\n",
       "<style scoped>\n",
       "    .dataframe tbody tr th:only-of-type {\n",
       "        vertical-align: middle;\n",
       "    }\n",
       "\n",
       "    .dataframe tbody tr th {\n",
       "        vertical-align: top;\n",
       "    }\n",
       "\n",
       "    .dataframe thead th {\n",
       "        text-align: right;\n",
       "    }\n",
       "</style>\n",
       "<table border=\"1\" class=\"dataframe\">\n",
       "  <thead>\n",
       "    <tr style=\"text-align: right;\">\n",
       "      <th></th>\n",
       "      <th>symbol</th>\n",
       "      <th>date</th>\n",
       "      <th>high</th>\n",
       "      <th>iexClose</th>\n",
       "      <th>industry</th>\n",
       "      <th>low</th>\n",
       "      <th>sector</th>\n",
       "      <th>volume</th>\n",
       "      <th>death</th>\n",
       "      <th>deathIncrease</th>\n",
       "      <th>hospitalizedIncrease</th>\n",
       "      <th>hospitalizedCurrently</th>\n",
       "      <th>negative</th>\n",
       "      <th>negativeIncrease</th>\n",
       "      <th>positive</th>\n",
       "      <th>positiveIncrease</th>\n",
       "      <th>totalTestResults</th>\n",
       "      <th>totalTestResultsIncrease</th>\n",
       "    </tr>\n",
       "  </thead>\n",
       "  <tbody>\n",
       "    <tr>\n",
       "      <th>12</th>\n",
       "      <td>AAPL</td>\n",
       "      <td>8/19/2020</td>\n",
       "      <td>468.650</td>\n",
       "      <td>467.195</td>\n",
       "      <td>Telecommunications Equipment</td>\n",
       "      <td>462.470</td>\n",
       "      <td>Electronic Technology</td>\n",
       "      <td>20867988</td>\n",
       "      <td>165088</td>\n",
       "      <td>1411</td>\n",
       "      <td>1983</td>\n",
       "      <td>43406</td>\n",
       "      <td>24462674</td>\n",
       "      <td>243232</td>\n",
       "      <td>5485765</td>\n",
       "      <td>45073</td>\n",
       "      <td>76356767</td>\n",
       "      <td>832115</td>\n",
       "    </tr>\n",
       "    <tr>\n",
       "      <th>7909</th>\n",
       "      <td>AAPL</td>\n",
       "      <td>8/20/2020</td>\n",
       "      <td>470.475</td>\n",
       "      <td>469.570</td>\n",
       "      <td>Telecommunications Equipment</td>\n",
       "      <td>462.933</td>\n",
       "      <td>Electronic Technology</td>\n",
       "      <td>16077233</td>\n",
       "      <td>166217</td>\n",
       "      <td>1129</td>\n",
       "      <td>1983</td>\n",
       "      <td>42109</td>\n",
       "      <td>24671146</td>\n",
       "      <td>208472</td>\n",
       "      <td>5529609</td>\n",
       "      <td>43844</td>\n",
       "      <td>77220977</td>\n",
       "      <td>864210</td>\n",
       "    </tr>\n",
       "    <tr>\n",
       "      <th>15793</th>\n",
       "      <td>AAPL</td>\n",
       "      <td>8/21/2020</td>\n",
       "      <td>499.472</td>\n",
       "      <td>495.860</td>\n",
       "      <td>Telecommunications Equipment</td>\n",
       "      <td>477.000</td>\n",
       "      <td>Electronic Technology</td>\n",
       "      <td>73689385</td>\n",
       "      <td>167336</td>\n",
       "      <td>1119</td>\n",
       "      <td>1782</td>\n",
       "      <td>41052</td>\n",
       "      <td>24925819</td>\n",
       "      <td>254673</td>\n",
       "      <td>5576086</td>\n",
       "      <td>46477</td>\n",
       "      <td>78136411</td>\n",
       "      <td>915434</td>\n",
       "    </tr>\n",
       "    <tr>\n",
       "      <th>23687</th>\n",
       "      <td>AAPL</td>\n",
       "      <td>8/24/2020</td>\n",
       "      <td>515.140</td>\n",
       "      <td>505.190</td>\n",
       "      <td>Telecommunications Equipment</td>\n",
       "      <td>495.745</td>\n",
       "      <td>Electronic Technology</td>\n",
       "      <td>62653977</td>\n",
       "      <td>169289</td>\n",
       "      <td>341</td>\n",
       "      <td>1031</td>\n",
       "      <td>38806</td>\n",
       "      <td>25500592</td>\n",
       "      <td>219639</td>\n",
       "      <td>5694562</td>\n",
       "      <td>34543</td>\n",
       "      <td>80485262</td>\n",
       "      <td>714951</td>\n",
       "    </tr>\n",
       "    <tr>\n",
       "      <th>31572</th>\n",
       "      <td>AAPL</td>\n",
       "      <td>8/25/2020</td>\n",
       "      <td>500.717</td>\n",
       "      <td>495.580</td>\n",
       "      <td>Telecommunications Equipment</td>\n",
       "      <td>492.210</td>\n",
       "      <td>Electronic Technology</td>\n",
       "      <td>39649672</td>\n",
       "      <td>170429</td>\n",
       "      <td>1140</td>\n",
       "      <td>1988</td>\n",
       "      <td>38831</td>\n",
       "      <td>25725096</td>\n",
       "      <td>224504</td>\n",
       "      <td>5731401</td>\n",
       "      <td>36839</td>\n",
       "      <td>81229134</td>\n",
       "      <td>743872</td>\n",
       "    </tr>\n",
       "  </tbody>\n",
       "</table>\n",
       "</div>"
      ],
      "text/plain": [
       "      symbol       date     high  iexClose                      industry  \\\n",
       "12      AAPL  8/19/2020  468.650   467.195  Telecommunications Equipment   \n",
       "7909    AAPL  8/20/2020  470.475   469.570  Telecommunications Equipment   \n",
       "15793   AAPL  8/21/2020  499.472   495.860  Telecommunications Equipment   \n",
       "23687   AAPL  8/24/2020  515.140   505.190  Telecommunications Equipment   \n",
       "31572   AAPL  8/25/2020  500.717   495.580  Telecommunications Equipment   \n",
       "\n",
       "           low                 sector    volume   death  deathIncrease  \\\n",
       "12     462.470  Electronic Technology  20867988  165088           1411   \n",
       "7909   462.933  Electronic Technology  16077233  166217           1129   \n",
       "15793  477.000  Electronic Technology  73689385  167336           1119   \n",
       "23687  495.745  Electronic Technology  62653977  169289            341   \n",
       "31572  492.210  Electronic Technology  39649672  170429           1140   \n",
       "\n",
       "       hospitalizedIncrease  hospitalizedCurrently  negative  \\\n",
       "12                     1983                  43406  24462674   \n",
       "7909                   1983                  42109  24671146   \n",
       "15793                  1782                  41052  24925819   \n",
       "23687                  1031                  38806  25500592   \n",
       "31572                  1988                  38831  25725096   \n",
       "\n",
       "       negativeIncrease  positive  positiveIncrease  totalTestResults  \\\n",
       "12               243232   5485765             45073          76356767   \n",
       "7909             208472   5529609             43844          77220977   \n",
       "15793            254673   5576086             46477          78136411   \n",
       "23687            219639   5694562             34543          80485262   \n",
       "31572            224504   5731401             36839          81229134   \n",
       "\n",
       "       totalTestResultsIncrease  \n",
       "12                       832115  \n",
       "7909                     864210  \n",
       "15793                    915434  \n",
       "23687                    714951  \n",
       "31572                    743872  "
      ]
     },
     "execution_count": 4,
     "metadata": {},
     "output_type": "execute_result"
    }
   ],
   "source": [
    "aapl_df.head()"
   ]
  },
  {
   "cell_type": "code",
   "execution_count": 5,
   "id": "2beb1815",
   "metadata": {},
   "outputs": [],
   "source": [
    "x_axis = aapl_df[\"date\"]\n",
    "y_axis = aapl_df[\"iexClose\"]"
   ]
  },
  {
   "cell_type": "code",
   "execution_count": 6,
   "id": "73022ecd",
   "metadata": {},
   "outputs": [
    {
     "data": {
      "text/plain": [
       "12       8/19/2020\n",
       "7909     8/20/2020\n",
       "15793    8/21/2020\n",
       "23687    8/24/2020\n",
       "31572    8/25/2020\n",
       "Name: date, dtype: object"
      ]
     },
     "execution_count": 6,
     "metadata": {},
     "output_type": "execute_result"
    }
   ],
   "source": [
    "x_axis.head()"
   ]
  },
  {
   "cell_type": "code",
   "execution_count": 7,
   "id": "d3890415",
   "metadata": {},
   "outputs": [
    {
     "data": {
      "text/plain": [
       "<matplotlib.legend.Legend at 0x2022de5a108>"
      ]
     },
     "execution_count": 7,
     "metadata": {},
     "output_type": "execute_result"
    },
    {
     "data": {
      "image/png": "[encoded data removed]",
      "text/plain": [
       "<Figure size 432x288 with 1 Axes>"
      ]
     },
     "metadata": {
      "needs_background": "light"
     },
     "output_type": "display_data"
    }
   ],
   "source": [
    "# Create the plot and add a label for the legend.\n",
    "plt.plot(x_axis, y_axis, label='AAPL')\n",
    "# Create labels for the x and y axes.\n",
    "plt.xlabel(\"Date\")\n",
    "plt.ylabel(\"Value\")\n",
    "# Set the y limit between 0 and 4000.\n",
    "plt.ylim(0, 600)\n",
    "# Create a title.\n",
    "plt.title(\"AAPL Stock\")\n",
    "# Add the legend.\n",
    "plt.legend()"
   ]
  },
  {
   "cell_type": "code",
   "execution_count": 8,
   "id": "51ce4467",
   "metadata": {},
   "outputs": [
    {
     "data": {
      "text/plain": [
       "<matplotlib.legend.Legend at 0x2022e86f548>"
      ]
     },
     "execution_count": 8,
     "metadata": {},
     "output_type": "execute_result"
    },
    {
     "data": {
      "image/png": "[encoded data removed]",
      "text/plain": [
       "<Figure size 432x288 with 1 Axes>"
      ]
     },
     "metadata": {
      "needs_background": "light"
     },
     "output_type": "display_data"
    }
   ],
   "source": [
    "# Create the plot.\n",
    "plt.plot(x_axis, y_axis, marker=\"*\", color=\"blue\", linewidth=2, label='AAPL')\n",
    "# Create labels for the x and y axes.\n",
    "plt.xlabel(\"Date\")\n",
    "plt.ylabel(\"Value\")\n",
    "# Set the y limit between 0 and 4000.\n",
    "plt.ylim(0, 600)\n",
    "# Create a title.\n",
    "plt.title(\"AAPL Stock\")\n",
    "# Add a grid.\n",
    "plt.grid()\n",
    "# Add the legend.\n",
    "plt.legend()"
   ]
  },
  {
   "cell_type": "code",
   "execution_count": 9,
   "id": "0323280e",
   "metadata": {},
   "outputs": [
    {
     "data": {
      "text/plain": [
       "<matplotlib.legend.Legend at 0x2022eb1fd88>"
      ]
     },
     "execution_count": 9,
     "metadata": {},
     "output_type": "execute_result"
    },
    {
     "data": {
      "image/png": "[encoded data removed]",
      "text/plain": [
       "<Figure size 432x288 with 1 Axes>"
      ]
     },
     "metadata": {
      "needs_background": "light"
     },
     "output_type": "display_data"
    }
   ],
   "source": [
    "# Create bar plot.\n",
    "plt.bar(x_axis, y_axis, color=\"green\", label='AAPL')\n",
    "# Create labels for the x and y axes.\n",
    "plt.xlabel(\"Date\")\n",
    "plt.ylabel(\"Value\")\n",
    "# Create a title.\n",
    "plt.title(\"AAPL Stock\")\n",
    "# Add the legend.\n",
    "plt.legend()"
   ]
  },
  {
   "cell_type": "code",
   "execution_count": 10,
   "id": "3f40c820",
   "metadata": {},
   "outputs": [],
   "source": [
    "# Create axis for Covid deaths\n",
    "z_axis = aapl_df[\"deathIncrease\"]"
   ]
  },
  {
   "cell_type": "code",
   "execution_count": 11,
   "id": "8d689ae2",
   "metadata": {},
   "outputs": [
    {
     "data": {
      "text/plain": [
       "<matplotlib.legend.Legend at 0x2022ec903c8>"
      ]
     },
     "execution_count": 11,
     "metadata": {},
     "output_type": "execute_result"
    },
    {
     "data": {
      "image/png": "[encoded data removed]",
      "text/plain": [
       "<Figure size 432x288 with 1 Axes>"
      ]
     },
     "metadata": {
      "needs_background": "light"
     },
     "output_type": "display_data"
    }
   ],
   "source": [
    "# Create the plot.\n",
    "plt.plot(x_axis, y_axis, marker=\"*\", color=\"blue\", linewidth=2, label='AAPL')\n",
    "plt.plot(x_axis, z_axis, marker=\"*\", color=\"red\", linewidth=2, label='Covid Deaths')\n",
    "# Create labels for the x and y axes.\n",
    "plt.xlabel(\"Date\")\n",
    "plt.ylabel(\"Value\")\n",
    "# Set the y limit between 0 and 4000.\n",
    "plt.ylim(0, 4000)\n",
    "# Create a title.\n",
    "plt.title(\"AAPL Stock vs Covid Deaths\")\n",
    "# Add a grid.\n",
    "plt.grid()\n",
    "# Add the legend.\n",
    "plt.legend()"
   ]
  },
  {
   "cell_type": "code",
   "execution_count": null,
   "id": "5151bf87",
   "metadata": {},
   "outputs": [],
   "source": []
  }
 ],
 "metadata": {
  "kernelspec": {
   "display_name": "Python 3 (ipykernel)",
   "language": "python",
   "name": "python3"
  },
  "language_info": {
   "codemirror_mode": {
    "name": "ipython",
    "version": 3
   },
   "file_extension": ".py",
   "mimetype": "text/x-python",
   "name": "python",
   "nbconvert_exporter": "python",
   "pygments_lexer": "ipython3",
   "version": "3.7.13"
  }
 },
 "nbformat": 4,
 "nbformat_minor": 5
}
