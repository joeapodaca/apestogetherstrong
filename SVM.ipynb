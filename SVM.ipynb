{
 "cells": [
  {
   "cell_type": "code",
   "execution_count": 1,
   "id": "25c0a38f",
   "metadata": {},
   "outputs": [
    {
     "data": {
      "text/html": [
       "<div>\n",
       "<style scoped>\n",
       "    .dataframe tbody tr th:only-of-type {\n",
       "        vertical-align: middle;\n",
       "    }\n",
       "\n",
       "    .dataframe tbody tr th {\n",
       "        vertical-align: top;\n",
       "    }\n",
       "\n",
       "    .dataframe thead th {\n",
       "        text-align: right;\n",
       "    }\n",
       "</style>\n",
       "<table border=\"1\" class=\"dataframe\">\n",
       "  <thead>\n",
       "    <tr style=\"text-align: right;\">\n",
       "      <th></th>\n",
       "      <th>data_index</th>\n",
       "      <th>symbol</th>\n",
       "      <th>date</th>\n",
       "      <th>volume</th>\n",
       "      <th>volume_previousday</th>\n",
       "      <th>volume_greater_previousday</th>\n",
       "      <th>volume_deathIncrease_up</th>\n",
       "      <th>volume_hospitalizedIncrease_up</th>\n",
       "      <th>volume_negativeIncrease_up</th>\n",
       "      <th>volume_positiveIncrease_up</th>\n",
       "      <th>...</th>\n",
       "      <th>hospitalizedIncrease_greater_previousday</th>\n",
       "      <th>negativeIncrease</th>\n",
       "      <th>negativeIncrease_previousday</th>\n",
       "      <th>negativeIncrease_greater_previousday</th>\n",
       "      <th>positiveIncrease</th>\n",
       "      <th>positiveIncrease_previousday</th>\n",
       "      <th>positiveIncrease_greater_previousday</th>\n",
       "      <th>totalTestResultsIncrease</th>\n",
       "      <th>totalTestResultsIncrease_previousday</th>\n",
       "      <th>totalTestResultsIncrease_greater_previousday</th>\n",
       "    </tr>\n",
       "  </thead>\n",
       "  <tbody>\n",
       "    <tr>\n",
       "      <th>0</th>\n",
       "      <td>0</td>\n",
       "      <td>A</td>\n",
       "      <td>8/20/2020</td>\n",
       "      <td>318382</td>\n",
       "      <td>1651518</td>\n",
       "      <td>0</td>\n",
       "      <td>0</td>\n",
       "      <td>0</td>\n",
       "      <td>0</td>\n",
       "      <td>0</td>\n",
       "      <td>...</td>\n",
       "      <td>0</td>\n",
       "      <td>208472</td>\n",
       "      <td>243232</td>\n",
       "      <td>0</td>\n",
       "      <td>43844</td>\n",
       "      <td>45073</td>\n",
       "      <td>0</td>\n",
       "      <td>864210</td>\n",
       "      <td>832115</td>\n",
       "      <td>1</td>\n",
       "    </tr>\n",
       "    <tr>\n",
       "      <th>1</th>\n",
       "      <td>1</td>\n",
       "      <td>AA</td>\n",
       "      <td>8/20/2020</td>\n",
       "      <td>1543881</td>\n",
       "      <td>5460701</td>\n",
       "      <td>0</td>\n",
       "      <td>0</td>\n",
       "      <td>0</td>\n",
       "      <td>0</td>\n",
       "      <td>0</td>\n",
       "      <td>...</td>\n",
       "      <td>0</td>\n",
       "      <td>208472</td>\n",
       "      <td>243232</td>\n",
       "      <td>0</td>\n",
       "      <td>43844</td>\n",
       "      <td>45073</td>\n",
       "      <td>0</td>\n",
       "      <td>864210</td>\n",
       "      <td>832115</td>\n",
       "      <td>1</td>\n",
       "    </tr>\n",
       "    <tr>\n",
       "      <th>2</th>\n",
       "      <td>2</td>\n",
       "      <td>AAAU</td>\n",
       "      <td>8/20/2020</td>\n",
       "      <td>151621</td>\n",
       "      <td>584100</td>\n",
       "      <td>0</td>\n",
       "      <td>0</td>\n",
       "      <td>0</td>\n",
       "      <td>0</td>\n",
       "      <td>0</td>\n",
       "      <td>...</td>\n",
       "      <td>0</td>\n",
       "      <td>208472</td>\n",
       "      <td>243232</td>\n",
       "      <td>0</td>\n",
       "      <td>43844</td>\n",
       "      <td>45073</td>\n",
       "      <td>0</td>\n",
       "      <td>864210</td>\n",
       "      <td>832115</td>\n",
       "      <td>1</td>\n",
       "    </tr>\n",
       "    <tr>\n",
       "      <th>3</th>\n",
       "      <td>3</td>\n",
       "      <td>AACG</td>\n",
       "      <td>8/20/2020</td>\n",
       "      <td>10963</td>\n",
       "      <td>36708</td>\n",
       "      <td>0</td>\n",
       "      <td>0</td>\n",
       "      <td>0</td>\n",
       "      <td>0</td>\n",
       "      <td>0</td>\n",
       "      <td>...</td>\n",
       "      <td>0</td>\n",
       "      <td>208472</td>\n",
       "      <td>243232</td>\n",
       "      <td>0</td>\n",
       "      <td>43844</td>\n",
       "      <td>45073</td>\n",
       "      <td>0</td>\n",
       "      <td>864210</td>\n",
       "      <td>832115</td>\n",
       "      <td>1</td>\n",
       "    </tr>\n",
       "    <tr>\n",
       "      <th>4</th>\n",
       "      <td>4</td>\n",
       "      <td>AADR</td>\n",
       "      <td>8/20/2020</td>\n",
       "      <td>177</td>\n",
       "      <td>1191</td>\n",
       "      <td>0</td>\n",
       "      <td>0</td>\n",
       "      <td>0</td>\n",
       "      <td>0</td>\n",
       "      <td>0</td>\n",
       "      <td>...</td>\n",
       "      <td>0</td>\n",
       "      <td>208472</td>\n",
       "      <td>243232</td>\n",
       "      <td>0</td>\n",
       "      <td>43844</td>\n",
       "      <td>45073</td>\n",
       "      <td>0</td>\n",
       "      <td>864210</td>\n",
       "      <td>832115</td>\n",
       "      <td>1</td>\n",
       "    </tr>\n",
       "  </tbody>\n",
       "</table>\n",
       "<p>5 rows × 42 columns</p>\n",
       "</div>"
      ],
      "text/plain": [
       "   data_index symbol       date   volume  volume_previousday  \\\n",
       "0           0      A  8/20/2020   318382             1651518   \n",
       "1           1     AA  8/20/2020  1543881             5460701   \n",
       "2           2   AAAU  8/20/2020   151621              584100   \n",
       "3           3   AACG  8/20/2020    10963               36708   \n",
       "4           4   AADR  8/20/2020      177                1191   \n",
       "\n",
       "   volume_greater_previousday  volume_deathIncrease_up  \\\n",
       "0                           0                        0   \n",
       "1                           0                        0   \n",
       "2                           0                        0   \n",
       "3                           0                        0   \n",
       "4                           0                        0   \n",
       "\n",
       "   volume_hospitalizedIncrease_up  volume_negativeIncrease_up  \\\n",
       "0                               0                           0   \n",
       "1                               0                           0   \n",
       "2                               0                           0   \n",
       "3                               0                           0   \n",
       "4                               0                           0   \n",
       "\n",
       "   volume_positiveIncrease_up  ...  hospitalizedIncrease_greater_previousday  \\\n",
       "0                           0  ...                                         0   \n",
       "1                           0  ...                                         0   \n",
       "2                           0  ...                                         0   \n",
       "3                           0  ...                                         0   \n",
       "4                           0  ...                                         0   \n",
       "\n",
       "   negativeIncrease  negativeIncrease_previousday  \\\n",
       "0            208472                        243232   \n",
       "1            208472                        243232   \n",
       "2            208472                        243232   \n",
       "3            208472                        243232   \n",
       "4            208472                        243232   \n",
       "\n",
       "   negativeIncrease_greater_previousday  positiveIncrease  \\\n",
       "0                                     0             43844   \n",
       "1                                     0             43844   \n",
       "2                                     0             43844   \n",
       "3                                     0             43844   \n",
       "4                                     0             43844   \n",
       "\n",
       "   positiveIncrease_previousday  positiveIncrease_greater_previousday  \\\n",
       "0                         45073                                     0   \n",
       "1                         45073                                     0   \n",
       "2                         45073                                     0   \n",
       "3                         45073                                     0   \n",
       "4                         45073                                     0   \n",
       "\n",
       "   totalTestResultsIncrease  totalTestResultsIncrease_previousday  \\\n",
       "0                    864210                                832115   \n",
       "1                    864210                                832115   \n",
       "2                    864210                                832115   \n",
       "3                    864210                                832115   \n",
       "4                    864210                                832115   \n",
       "\n",
       "   totalTestResultsIncrease_greater_previousday  \n",
       "0                                             1  \n",
       "1                                             1  \n",
       "2                                             1  \n",
       "3                                             1  \n",
       "4                                             1  \n",
       "\n",
       "[5 rows x 42 columns]"
      ]
     },
     "execution_count": 1,
     "metadata": {},
     "output_type": "execute_result"
    }
   ],
   "source": [
    "from path import Path\n",
    "import numpy as np\n",
    "import pandas as pd\n",
    "\n",
    "\n",
    "data = Path(\"../apestogetherstrong/logistic_regression_test.csv\")\n",
    "df = pd.read_csv(data)\n",
    "df.head()"
   ]
  },
  {
   "cell_type": "code",
   "execution_count": 2,
   "id": "4015aa01",
   "metadata": {},
   "outputs": [
    {
     "name": "stdout",
     "output_type": "stream",
     "text": [
      "<class 'pandas.core.frame.DataFrame'>\n",
      "RangeIndex: 623468 entries, 0 to 623467\n",
      "Data columns (total 42 columns):\n",
      " #   Column                                        Non-Null Count   Dtype  \n",
      "---  ------                                        --------------   -----  \n",
      " 0   data_index                                    623468 non-null  int64  \n",
      " 1   symbol                                        623468 non-null  object \n",
      " 2   date                                          623468 non-null  object \n",
      " 3   volume                                        623468 non-null  int64  \n",
      " 4   volume_previousday                            623468 non-null  int64  \n",
      " 5   volume_greater_previousday                    623468 non-null  int64  \n",
      " 6   volume_deathIncrease_up                       623468 non-null  int64  \n",
      " 7   volume_hospitalizedIncrease_up                623468 non-null  int64  \n",
      " 8   volume_negativeIncrease_up                    623468 non-null  int64  \n",
      " 9   volume_positiveIncrease_up                    623468 non-null  int64  \n",
      " 10  volume_totalTestResultsIncrease_up            623468 non-null  int64  \n",
      " 11  high                                          623468 non-null  float64\n",
      " 12  high_previousday                              623468 non-null  float64\n",
      " 13  high_greater_previousday                      623468 non-null  int64  \n",
      " 14  high_deathIncrease_up                         623468 non-null  int64  \n",
      " 15  high_hospitalizedIncrease_up                  623468 non-null  int64  \n",
      " 16  high_negativeIncrease_up                      623468 non-null  int64  \n",
      " 17  high_positiveIncrease_up                      623468 non-null  int64  \n",
      " 18  high_totalTestResultsIncrease_up              623468 non-null  int64  \n",
      " 19  iexClose                                      623468 non-null  float64\n",
      " 20  iexClose_previousday                          623468 non-null  float64\n",
      " 21  iexClose_greater_previousday                  623468 non-null  int64  \n",
      " 22  iexClose_deathIncrease_up                     623468 non-null  int64  \n",
      " 23  iexClose_hospitalizedIncrease_up              623468 non-null  int64  \n",
      " 24  iexClose_negativeIncrease_up                  623468 non-null  int64  \n",
      " 25  iexClose_positiveIncrease_up                  623468 non-null  int64  \n",
      " 26  iexClose_totalTestResultsIncrease_up          623468 non-null  int64  \n",
      " 27  deathIncrease                                 623468 non-null  int64  \n",
      " 28  deathIncrease_previousday                     623468 non-null  int64  \n",
      " 29  deathIncrease_greater_previousday             623468 non-null  int64  \n",
      " 30  hospitalizedIncrease                          623468 non-null  int64  \n",
      " 31  hospitalizedIncrease_previousday              623468 non-null  int64  \n",
      " 32  hospitalizedIncrease_greater_previousday      623468 non-null  int64  \n",
      " 33  negativeIncrease                              623468 non-null  int64  \n",
      " 34  negativeIncrease_previousday                  623468 non-null  int64  \n",
      " 35  negativeIncrease_greater_previousday          623468 non-null  int64  \n",
      " 36  positiveIncrease                              623468 non-null  int64  \n",
      " 37  positiveIncrease_previousday                  623468 non-null  int64  \n",
      " 38  positiveIncrease_greater_previousday          623468 non-null  int64  \n",
      " 39  totalTestResultsIncrease                      623468 non-null  int64  \n",
      " 40  totalTestResultsIncrease_previousday          623468 non-null  int64  \n",
      " 41  totalTestResultsIncrease_greater_previousday  623468 non-null  int64  \n",
      "dtypes: float64(4), int64(36), object(2)\n",
      "memory usage: 199.8+ MB\n"
     ]
    }
   ],
   "source": [
    "df.info()"
   ]
  },
  {
   "cell_type": "code",
   "execution_count": 3,
   "id": "c73210c4",
   "metadata": {
    "scrolled": true
   },
   "outputs": [
    {
     "name": "stdout",
     "output_type": "stream",
     "text": [
      "       symbol        date    high  iexClose  deathIncrease  negativeIncrease  \\\n",
      "0           A   8/20/2020  98.150    98.065           1129            208472   \n",
      "1          AA   8/20/2020  15.120    14.965           1129            208472   \n",
      "2        AAAU   8/20/2020  19.440    19.400           1129            208472   \n",
      "3        AACG   8/20/2020   1.126     1.190           1129            208472   \n",
      "4        AADR   8/20/2020  56.330    58.260           1129            208472   \n",
      "...       ...         ...     ...       ...            ...               ...   \n",
      "623463    ZVO  12/23/2020   4.270     4.130           3393            304962   \n",
      "623464   ZYME  12/23/2020  53.700    51.030           3393            304962   \n",
      "623465   ZYNE  12/23/2020   3.505     3.415           3393            304962   \n",
      "623466   ZYXI  12/23/2020  14.490    13.820           3393            304962   \n",
      "623467   TRUE  12/23/2020   4.610     4.505           3393            304962   \n",
      "\n",
      "        positiveIncrease  totalTestResultsIncrease  iexClose_deathIncrease_up  \n",
      "0                  43844                    864210                          0  \n",
      "1                  43844                    864210                          0  \n",
      "2                  43844                    864210                          0  \n",
      "3                  43844                    864210                          0  \n",
      "4                  43844                    864210                          0  \n",
      "...                  ...                       ...                        ...  \n",
      "623463            224526                   1791481                          1  \n",
      "623464            224526                   1791481                          0  \n",
      "623465            224526                   1791481                          0  \n",
      "623466            224526                   1791481                          0  \n",
      "623467            224526                   1791481                          1  \n",
      "\n",
      "[623468 rows x 9 columns]\n"
     ]
    }
   ],
   "source": [
    "rf_df = pd.DataFrame().assign(symbol=df['symbol'],date=df['date'],high=df['high'],iexClose=df['iexClose'],deathIncrease=df['deathIncrease'],negativeIncrease=df['negativeIncrease'],positiveIncrease=df['positiveIncrease'],totalTestResultsIncrease=df['totalTestResultsIncrease'],iexClose_deathIncrease_up=df['iexClose_deathIncrease_up'])\n",
    "print(rf_df)"
   ]
  },
  {
   "cell_type": "code",
   "execution_count": 4,
   "id": "c52dd2e9",
   "metadata": {},
   "outputs": [
    {
     "name": "stderr",
     "output_type": "stream",
     "text": [
      "C:\\Users\\andca\\anaconda3\\envs\\PythonData\\lib\\site-packages\\ipykernel_launcher.py:5: FutureWarning: casting datetime64[ns] values to int64 with .astype(...) is deprecated and will raise in a future version. Use .view(...) instead.\n",
      "  \"\"\"\n"
     ]
    }
   ],
   "source": [
    "float or np.ndarray(dtype=float)\n",
    "rf_df['date'] = pd.to_datetime(rf_df['date'])    \n",
    "rf_df['date_delta'] = (rf_df['date'] - rf_df['date'].min())  / np.timedelta64(1,'D')\n",
    "# converting to object\n",
    "rf_df = rf_df.astype({\"date\":'int64'}) "
   ]
  },
  {
   "cell_type": "code",
   "execution_count": 5,
   "id": "20e5ddc9",
   "metadata": {},
   "outputs": [
    {
     "name": "stdout",
     "output_type": "stream",
     "text": [
      "<class 'pandas.core.frame.DataFrame'>\n",
      "RangeIndex: 623468 entries, 0 to 623467\n",
      "Data columns (total 10 columns):\n",
      " #   Column                     Non-Null Count   Dtype  \n",
      "---  ------                     --------------   -----  \n",
      " 0   symbol                     623468 non-null  object \n",
      " 1   date                       623468 non-null  int64  \n",
      " 2   high                       623468 non-null  float64\n",
      " 3   iexClose                   623468 non-null  float64\n",
      " 4   deathIncrease              623468 non-null  int64  \n",
      " 5   negativeIncrease           623468 non-null  int64  \n",
      " 6   positiveIncrease           623468 non-null  int64  \n",
      " 7   totalTestResultsIncrease   623468 non-null  int64  \n",
      " 8   iexClose_deathIncrease_up  623468 non-null  int64  \n",
      " 9   date_delta                 623468 non-null  float64\n",
      "dtypes: float64(3), int64(6), object(1)\n",
      "memory usage: 47.6+ MB\n"
     ]
    }
   ],
   "source": [
    "rf_df.info()"
   ]
  },
  {
   "cell_type": "code",
   "execution_count": 6,
   "id": "4378fdca",
   "metadata": {},
   "outputs": [
    {
     "data": {
      "text/html": [
       "<div>\n",
       "<style scoped>\n",
       "    .dataframe tbody tr th:only-of-type {\n",
       "        vertical-align: middle;\n",
       "    }\n",
       "\n",
       "    .dataframe tbody tr th {\n",
       "        vertical-align: top;\n",
       "    }\n",
       "\n",
       "    .dataframe thead th {\n",
       "        text-align: right;\n",
       "    }\n",
       "</style>\n",
       "<table border=\"1\" class=\"dataframe\">\n",
       "  <thead>\n",
       "    <tr style=\"text-align: right;\">\n",
       "      <th></th>\n",
       "      <th>high</th>\n",
       "      <th>iexClose</th>\n",
       "      <th>deathIncrease</th>\n",
       "      <th>negativeIncrease</th>\n",
       "      <th>positiveIncrease</th>\n",
       "      <th>totalTestResultsIncrease</th>\n",
       "      <th>iexClose_deathIncrease_up</th>\n",
       "      <th>date_delta</th>\n",
       "    </tr>\n",
       "  </thead>\n",
       "  <tbody>\n",
       "    <tr>\n",
       "      <th>0</th>\n",
       "      <td>98.150</td>\n",
       "      <td>98.065</td>\n",
       "      <td>1129</td>\n",
       "      <td>208472</td>\n",
       "      <td>43844</td>\n",
       "      <td>864210</td>\n",
       "      <td>0</td>\n",
       "      <td>0.0</td>\n",
       "    </tr>\n",
       "    <tr>\n",
       "      <th>1</th>\n",
       "      <td>15.120</td>\n",
       "      <td>14.965</td>\n",
       "      <td>1129</td>\n",
       "      <td>208472</td>\n",
       "      <td>43844</td>\n",
       "      <td>864210</td>\n",
       "      <td>0</td>\n",
       "      <td>0.0</td>\n",
       "    </tr>\n",
       "    <tr>\n",
       "      <th>2</th>\n",
       "      <td>19.440</td>\n",
       "      <td>19.400</td>\n",
       "      <td>1129</td>\n",
       "      <td>208472</td>\n",
       "      <td>43844</td>\n",
       "      <td>864210</td>\n",
       "      <td>0</td>\n",
       "      <td>0.0</td>\n",
       "    </tr>\n",
       "    <tr>\n",
       "      <th>3</th>\n",
       "      <td>1.126</td>\n",
       "      <td>1.190</td>\n",
       "      <td>1129</td>\n",
       "      <td>208472</td>\n",
       "      <td>43844</td>\n",
       "      <td>864210</td>\n",
       "      <td>0</td>\n",
       "      <td>0.0</td>\n",
       "    </tr>\n",
       "    <tr>\n",
       "      <th>4</th>\n",
       "      <td>56.330</td>\n",
       "      <td>58.260</td>\n",
       "      <td>1129</td>\n",
       "      <td>208472</td>\n",
       "      <td>43844</td>\n",
       "      <td>864210</td>\n",
       "      <td>0</td>\n",
       "      <td>0.0</td>\n",
       "    </tr>\n",
       "  </tbody>\n",
       "</table>\n",
       "</div>"
      ],
      "text/plain": [
       "     high  iexClose  deathIncrease  negativeIncrease  positiveIncrease  \\\n",
       "0  98.150    98.065           1129            208472             43844   \n",
       "1  15.120    14.965           1129            208472             43844   \n",
       "2  19.440    19.400           1129            208472             43844   \n",
       "3   1.126     1.190           1129            208472             43844   \n",
       "4  56.330    58.260           1129            208472             43844   \n",
       "\n",
       "   totalTestResultsIncrease  iexClose_deathIncrease_up  date_delta  \n",
       "0                    864210                          0         0.0  \n",
       "1                    864210                          0         0.0  \n",
       "2                    864210                          0         0.0  \n",
       "3                    864210                          0         0.0  \n",
       "4                    864210                          0         0.0  "
      ]
     },
     "execution_count": 6,
     "metadata": {},
     "output_type": "execute_result"
    }
   ],
   "source": [
    "rf_df = rf_df.drop(labels=[\"symbol\", \"date\"], axis=1)\n",
    "rf_df.head()"
   ]
  },
  {
   "cell_type": "code",
   "execution_count": 7,
   "id": "0ae45022",
   "metadata": {},
   "outputs": [
    {
     "name": "stdout",
     "output_type": "stream",
     "text": [
      "<class 'pandas.core.frame.DataFrame'>\n",
      "RangeIndex: 623468 entries, 0 to 623467\n",
      "Data columns (total 8 columns):\n",
      " #   Column                     Non-Null Count   Dtype  \n",
      "---  ------                     --------------   -----  \n",
      " 0   high                       623468 non-null  float64\n",
      " 1   iexClose                   623468 non-null  float64\n",
      " 2   deathIncrease              623468 non-null  int64  \n",
      " 3   negativeIncrease           623468 non-null  int64  \n",
      " 4   positiveIncrease           623468 non-null  int64  \n",
      " 5   totalTestResultsIncrease   623468 non-null  int64  \n",
      " 6   iexClose_deathIncrease_up  623468 non-null  int64  \n",
      " 7   date_delta                 623468 non-null  float64\n",
      "dtypes: float64(3), int64(5)\n",
      "memory usage: 38.1 MB\n"
     ]
    }
   ],
   "source": [
    "rf_df.info()"
   ]
  },
  {
   "cell_type": "code",
   "execution_count": 8,
   "id": "d38f0792",
   "metadata": {},
   "outputs": [
    {
     "data": {
      "text/html": [
       "<div>\n",
       "<style scoped>\n",
       "    .dataframe tbody tr th:only-of-type {\n",
       "        vertical-align: middle;\n",
       "    }\n",
       "\n",
       "    .dataframe tbody tr th {\n",
       "        vertical-align: top;\n",
       "    }\n",
       "\n",
       "    .dataframe thead th {\n",
       "        text-align: right;\n",
       "    }\n",
       "</style>\n",
       "<table border=\"1\" class=\"dataframe\">\n",
       "  <thead>\n",
       "    <tr style=\"text-align: right;\">\n",
       "      <th></th>\n",
       "      <th>high</th>\n",
       "      <th>iexClose</th>\n",
       "      <th>deathIncrease</th>\n",
       "      <th>negativeIncrease</th>\n",
       "      <th>positiveIncrease</th>\n",
       "      <th>totalTestResultsIncrease</th>\n",
       "      <th>date_delta</th>\n",
       "    </tr>\n",
       "  </thead>\n",
       "  <tbody>\n",
       "    <tr>\n",
       "      <th>0</th>\n",
       "      <td>98.150</td>\n",
       "      <td>98.065</td>\n",
       "      <td>1129</td>\n",
       "      <td>208472</td>\n",
       "      <td>43844</td>\n",
       "      <td>864210</td>\n",
       "      <td>0.0</td>\n",
       "    </tr>\n",
       "    <tr>\n",
       "      <th>1</th>\n",
       "      <td>15.120</td>\n",
       "      <td>14.965</td>\n",
       "      <td>1129</td>\n",
       "      <td>208472</td>\n",
       "      <td>43844</td>\n",
       "      <td>864210</td>\n",
       "      <td>0.0</td>\n",
       "    </tr>\n",
       "    <tr>\n",
       "      <th>2</th>\n",
       "      <td>19.440</td>\n",
       "      <td>19.400</td>\n",
       "      <td>1129</td>\n",
       "      <td>208472</td>\n",
       "      <td>43844</td>\n",
       "      <td>864210</td>\n",
       "      <td>0.0</td>\n",
       "    </tr>\n",
       "    <tr>\n",
       "      <th>3</th>\n",
       "      <td>1.126</td>\n",
       "      <td>1.190</td>\n",
       "      <td>1129</td>\n",
       "      <td>208472</td>\n",
       "      <td>43844</td>\n",
       "      <td>864210</td>\n",
       "      <td>0.0</td>\n",
       "    </tr>\n",
       "    <tr>\n",
       "      <th>4</th>\n",
       "      <td>56.330</td>\n",
       "      <td>58.260</td>\n",
       "      <td>1129</td>\n",
       "      <td>208472</td>\n",
       "      <td>43844</td>\n",
       "      <td>864210</td>\n",
       "      <td>0.0</td>\n",
       "    </tr>\n",
       "  </tbody>\n",
       "</table>\n",
       "</div>"
      ],
      "text/plain": [
       "     high  iexClose  deathIncrease  negativeIncrease  positiveIncrease  \\\n",
       "0  98.150    98.065           1129            208472             43844   \n",
       "1  15.120    14.965           1129            208472             43844   \n",
       "2  19.440    19.400           1129            208472             43844   \n",
       "3   1.126     1.190           1129            208472             43844   \n",
       "4  56.330    58.260           1129            208472             43844   \n",
       "\n",
       "   totalTestResultsIncrease  date_delta  \n",
       "0                    864210         0.0  \n",
       "1                    864210         0.0  \n",
       "2                    864210         0.0  \n",
       "3                    864210         0.0  \n",
       "4                    864210         0.0  "
      ]
     },
     "execution_count": 8,
     "metadata": {},
     "output_type": "execute_result"
    }
   ],
   "source": [
    "# Create our features\n",
    "#X = pd.get_dummies(df_equities, columns=[\"death\", \"deathIncrease\", \"hospitalizedIncrease\", \"hospitalizedCurrently\", \"negative\", \"positive\", \"totalTestResults\", \"totalTestResultsIncrease\"])\n",
    "X = rf_df.drop('iexClose_deathIncrease_up',axis=1)\n",
    "# Create our target\n",
    "y = pd.DataFrame(rf_df[\"iexClose_deathIncrease_up\"])\n",
    "X.head()"
   ]
  },
  {
   "cell_type": "code",
   "execution_count": 9,
   "id": "4ce23a26",
   "metadata": {},
   "outputs": [
    {
     "name": "stdout",
     "output_type": "stream",
     "text": [
      "<class 'pandas.core.frame.DataFrame'>\n",
      "RangeIndex: 623468 entries, 0 to 623467\n",
      "Data columns (total 7 columns):\n",
      " #   Column                    Non-Null Count   Dtype  \n",
      "---  ------                    --------------   -----  \n",
      " 0   high                      623468 non-null  float64\n",
      " 1   iexClose                  623468 non-null  float64\n",
      " 2   deathIncrease             623468 non-null  int64  \n",
      " 3   negativeIncrease          623468 non-null  int64  \n",
      " 4   positiveIncrease          623468 non-null  int64  \n",
      " 5   totalTestResultsIncrease  623468 non-null  int64  \n",
      " 6   date_delta                623468 non-null  float64\n",
      "dtypes: float64(3), int64(4)\n",
      "memory usage: 33.3 MB\n"
     ]
    }
   ],
   "source": [
    "X.info()"
   ]
  },
  {
   "cell_type": "code",
   "execution_count": 10,
   "id": "5c6cf6cd",
   "metadata": {},
   "outputs": [
    {
     "data": {
      "text/html": [
       "<div>\n",
       "<style scoped>\n",
       "    .dataframe tbody tr th:only-of-type {\n",
       "        vertical-align: middle;\n",
       "    }\n",
       "\n",
       "    .dataframe tbody tr th {\n",
       "        vertical-align: top;\n",
       "    }\n",
       "\n",
       "    .dataframe thead th {\n",
       "        text-align: right;\n",
       "    }\n",
       "</style>\n",
       "<table border=\"1\" class=\"dataframe\">\n",
       "  <thead>\n",
       "    <tr style=\"text-align: right;\">\n",
       "      <th></th>\n",
       "      <th>high</th>\n",
       "      <th>iexClose</th>\n",
       "      <th>deathIncrease</th>\n",
       "      <th>negativeIncrease</th>\n",
       "      <th>positiveIncrease</th>\n",
       "      <th>totalTestResultsIncrease</th>\n",
       "      <th>date_delta</th>\n",
       "    </tr>\n",
       "  </thead>\n",
       "  <tbody>\n",
       "    <tr>\n",
       "      <th>count</th>\n",
       "      <td>623468.000000</td>\n",
       "      <td>623468.000000</td>\n",
       "      <td>623468.000000</td>\n",
       "      <td>623468.000000</td>\n",
       "      <td>623468.000000</td>\n",
       "      <td>6.234680e+05</td>\n",
       "      <td>623468.000000</td>\n",
       "    </tr>\n",
       "    <tr>\n",
       "      <th>mean</th>\n",
       "      <td>41.163351</td>\n",
       "      <td>42.778524</td>\n",
       "      <td>1273.873418</td>\n",
       "      <td>250270.392405</td>\n",
       "      <td>100151.316456</td>\n",
       "      <td>1.282244e+06</td>\n",
       "      <td>62.164557</td>\n",
       "    </tr>\n",
       "    <tr>\n",
       "      <th>std</th>\n",
       "      <td>103.949506</td>\n",
       "      <td>104.890778</td>\n",
       "      <td>806.655191</td>\n",
       "      <td>124994.255672</td>\n",
       "      <td>68173.329913</td>\n",
       "      <td>4.011269e+05</td>\n",
       "      <td>35.269849</td>\n",
       "    </tr>\n",
       "    <tr>\n",
       "      <th>min</th>\n",
       "      <td>0.000000</td>\n",
       "      <td>0.007000</td>\n",
       "      <td>246.000000</td>\n",
       "      <td>-658774.000000</td>\n",
       "      <td>22310.000000</td>\n",
       "      <td>5.468590e+05</td>\n",
       "      <td>0.000000</td>\n",
       "    </tr>\n",
       "    <tr>\n",
       "      <th>25%</th>\n",
       "      <td>7.580000</td>\n",
       "      <td>9.180000</td>\n",
       "      <td>847.000000</td>\n",
       "      <td>211097.000000</td>\n",
       "      <td>43642.000000</td>\n",
       "      <td>9.504830e+05</td>\n",
       "      <td>33.000000</td>\n",
       "    </tr>\n",
       "    <tr>\n",
       "      <th>50%</th>\n",
       "      <td>21.680000</td>\n",
       "      <td>22.920000</td>\n",
       "      <td>1047.000000</td>\n",
       "      <td>263255.000000</td>\n",
       "      <td>63430.000000</td>\n",
       "      <td>1.182695e+06</td>\n",
       "      <td>61.000000</td>\n",
       "    </tr>\n",
       "    <tr>\n",
       "      <th>75%</th>\n",
       "      <td>42.739250</td>\n",
       "      <td>44.160000</td>\n",
       "      <td>1358.000000</td>\n",
       "      <td>304962.000000</td>\n",
       "      <td>166503.000000</td>\n",
       "      <td>1.653269e+06</td>\n",
       "      <td>91.000000</td>\n",
       "    </tr>\n",
       "    <tr>\n",
       "      <th>max</th>\n",
       "      <td>4530.000000</td>\n",
       "      <td>4474.000000</td>\n",
       "      <td>3453.000000</td>\n",
       "      <td>456078.000000</td>\n",
       "      <td>236933.000000</td>\n",
       "      <td>2.010951e+06</td>\n",
       "      <td>125.000000</td>\n",
       "    </tr>\n",
       "  </tbody>\n",
       "</table>\n",
       "</div>"
      ],
      "text/plain": [
       "                high       iexClose  deathIncrease  negativeIncrease  \\\n",
       "count  623468.000000  623468.000000  623468.000000     623468.000000   \n",
       "mean       41.163351      42.778524    1273.873418     250270.392405   \n",
       "std       103.949506     104.890778     806.655191     124994.255672   \n",
       "min         0.000000       0.007000     246.000000    -658774.000000   \n",
       "25%         7.580000       9.180000     847.000000     211097.000000   \n",
       "50%        21.680000      22.920000    1047.000000     263255.000000   \n",
       "75%        42.739250      44.160000    1358.000000     304962.000000   \n",
       "max      4530.000000    4474.000000    3453.000000     456078.000000   \n",
       "\n",
       "       positiveIncrease  totalTestResultsIncrease     date_delta  \n",
       "count     623468.000000              6.234680e+05  623468.000000  \n",
       "mean      100151.316456              1.282244e+06      62.164557  \n",
       "std        68173.329913              4.011269e+05      35.269849  \n",
       "min        22310.000000              5.468590e+05       0.000000  \n",
       "25%        43642.000000              9.504830e+05      33.000000  \n",
       "50%        63430.000000              1.182695e+06      61.000000  \n",
       "75%       166503.000000              1.653269e+06      91.000000  \n",
       "max       236933.000000              2.010951e+06     125.000000  "
      ]
     },
     "execution_count": 10,
     "metadata": {},
     "output_type": "execute_result"
    }
   ],
   "source": [
    "X.describe()"
   ]
  },
  {
   "cell_type": "code",
   "execution_count": 11,
   "id": "426e1e81",
   "metadata": {},
   "outputs": [
    {
     "data": {
      "text/plain": [
       "0    480449\n",
       "1    143019\n",
       "Name: iexClose_deathIncrease_up, dtype: int64"
      ]
     },
     "execution_count": 11,
     "metadata": {},
     "output_type": "execute_result"
    }
   ],
   "source": [
    "# Check the balance of our target values\n",
    "y['iexClose_deathIncrease_up'].value_counts()"
   ]
  },
  {
   "cell_type": "code",
   "execution_count": 12,
   "id": "57bd3353",
   "metadata": {},
   "outputs": [
    {
     "data": {
      "text/plain": [
       "0    0.770607\n",
       "1    0.229393\n",
       "Name: iexClose_deathIncrease_up, dtype: float64"
      ]
     },
     "execution_count": 12,
     "metadata": {},
     "output_type": "execute_result"
    }
   ],
   "source": [
    "# Check the balance of our target values\n",
    "y['iexClose_deathIncrease_up'].value_counts(normalize=True)"
   ]
  },
  {
   "cell_type": "code",
   "execution_count": 13,
   "id": "84307058",
   "metadata": {},
   "outputs": [
    {
     "name": "stderr",
     "output_type": "stream",
     "text": [
      "C:\\Users\\andca\\anaconda3\\envs\\PythonData\\lib\\site-packages\\seaborn\\categorical.py:3717: UserWarning: The `factorplot` function has been renamed to `catplot`. The original name will be removed in a future release. Please update your code. Note that the default `kind` in `factorplot` (`'point'`) has changed `'strip'` in `catplot`.\n",
      "  warnings.warn(msg)\n",
      "C:\\Users\\andca\\anaconda3\\envs\\PythonData\\lib\\site-packages\\seaborn\\_decorators.py:43: FutureWarning: Pass the following variable as a keyword arg: x. From version 0.12, the only valid positional argument will be `data`, and passing other arguments without an explicit keyword will result in an error or misinterpretation.\n",
      "  FutureWarning\n"
     ]
    },
    {
     "data": {
      "text/plain": [
       "<seaborn.axisgrid.FacetGrid at 0x15889172108>"
      ]
     },
     "execution_count": 13,
     "metadata": {},
     "output_type": "execute_result"
    },
    {
     "data": {
      "image/png": "[encoded data removed]",
      "text/plain": [
       "<Figure size 360x360 with 1 Axes>"
      ]
     },
     "metadata": {
      "needs_background": "light"
     },
     "output_type": "display_data"
    }
   ],
   "source": [
    "import seaborn as sn\n",
    "sn.factorplot('iexClose_deathIncrease_up', data=y,kind='count')"
   ]
  },
  {
   "cell_type": "code",
   "execution_count": 15,
   "id": "8fa45a0f",
   "metadata": {},
   "outputs": [],
   "source": [
    "from sklearn.model_selection import train_test_split\n",
    "# Splitting into Train and Test sets.\n",
    "X_train, X_test, y_train, y_test = train_test_split(X, y, random_state=1, stratify=y)"
   ]
  },
  {
   "cell_type": "code",
   "execution_count": 19,
   "id": "14e0ea25",
   "metadata": {},
   "outputs": [],
   "source": [
    "from collections import Counter\n",
    "from sklearn.ensemble import RandomForestClassifier\n",
    "from sklearn.preprocessing import StandardScaler,OneHotEncoder\n",
    "from sklearn.metrics import confusion_matrix, accuracy_score, classification_report\n",
    "from sklearn.metrics import balanced_accuracy_score\n",
    "\n",
    "# Creating a StandardScaler instance.\n",
    "scaler = StandardScaler()\n",
    "# Fitting the Standard Scaler with the training data.\n",
    "X_scaler = scaler.fit(X_train)\n",
    "\n",
    "# Scaling the data.\n",
    "X_train_scaled = X_scaler.transform(X_train)\n",
    "X_test_scaled = X_scaler.transform(X_test)"
   ]
  },
  {
   "cell_type": "code",
   "execution_count": 20,
   "id": "d5dd7530",
   "metadata": {},
   "outputs": [
    {
     "data": {
      "text/plain": [
       "array([[-0.01534681, -0.0353423 ,  0.7885528 ,  1.58909878,  1.42356775,\n",
       "         1.80161185,  0.84638296],\n",
       "       [-0.35777131, -0.37087579, -0.29593026, -0.31583951, -1.01878864,\n",
       "        -1.21137042, -1.39297013],\n",
       "       [ 0.18085679,  0.1634906 , -0.1397647 , -0.44013017, -0.92022715,\n",
       "        -1.14845564, -1.1662002 ],\n",
       "       [-0.3661814 , -0.37863051, -0.36533718, -1.95644723, -0.65732805,\n",
       "        -0.14131816, -0.37250543],\n",
       "       [-0.25393536, -0.26817304, -0.14844057,  0.41802818,  0.27731184,\n",
       "         0.69530881,  0.42118933],\n",
       "       [-0.39313192, -0.35163084,  0.0213585 ,  0.14927013,  1.19961504,\n",
       "         0.92514966,  1.32826907],\n",
       "       [-0.12506027, -0.13965274, -0.82639741, -0.0075958 ,  0.73137828,\n",
       "         0.5047897 ,  0.73299799]])"
      ]
     },
     "execution_count": 20,
     "metadata": {},
     "output_type": "execute_result"
    }
   ],
   "source": [
    "X_train_scaled[:7]"
   ]
  },
  {
   "cell_type": "code",
   "execution_count": 21,
   "id": "02391e89",
   "metadata": {},
   "outputs": [
    {
     "data": {
      "text/plain": [
       "array([[-0.14528272, -0.15851941, -1.02966052,  0.77995601, -0.62297308,\n",
       "        -0.45204836, -0.06069678],\n",
       "       [-0.20820549, -0.222023  , -0.27609971, -0.39253684, -0.5466059 ,\n",
       "        -0.56381931, -0.00400429],\n",
       "       [-0.03847456, -0.05463453, -0.32071845, -0.04428517, -0.8129669 ,\n",
       "        -0.85883329, -1.13785396],\n",
       "       [-0.24700659, -0.2598509 , -0.14596175, -0.21248092, -0.88924607,\n",
       "        -0.66990948, -0.79769906],\n",
       "       [ 0.07262465,  0.05289128, -0.1794258 , -0.33693228, -0.82549428,\n",
       "        -1.0417074 , -1.76147128],\n",
       "       [ 0.84835997,  0.81313753, -0.40499827, -0.35121109, -0.03192686,\n",
       "         0.35148104,  0.25111188],\n",
       "       [ 0.27403677,  0.27134741, -0.51034806, -0.28581144, -0.7979751 ,\n",
       "        -0.66092343, -0.57092913]])"
      ]
     },
     "execution_count": 21,
     "metadata": {},
     "output_type": "execute_result"
    }
   ],
   "source": [
    "X_test_scaled[:7]"
   ]
  },
  {
   "cell_type": "code",
   "execution_count": 22,
   "id": "31547392",
   "metadata": {},
   "outputs": [
    {
     "name": "stdout",
     "output_type": "stream",
     "text": [
      "1.1077133941131842e-16\n",
      "0.9999999999999998\n"
     ]
    }
   ],
   "source": [
    "print(np.mean(X_train_scaled[:,0]))\n",
    "print(np.std(X_train_scaled[:,0]))"
   ]
  },
  {
   "cell_type": "code",
   "execution_count": 23,
   "id": "d478cb49",
   "metadata": {},
   "outputs": [
    {
     "name": "stdout",
     "output_type": "stream",
     "text": [
      "0.001051985717026859\n",
      "0.9734799587348847\n"
     ]
    }
   ],
   "source": [
    "print(np.mean(X_test_scaled[:,0]))\n",
    "print(np.std(X_test_scaled[:,0]))"
   ]
  },
  {
   "cell_type": "code",
   "execution_count": 24,
   "id": "1973d6e6",
   "metadata": {},
   "outputs": [],
   "source": [
    "from sklearn.svm import SVC\n",
    "model = SVC(kernel='linear')\n"
   ]
  },
  {
   "cell_type": "code",
   "execution_count": null,
   "id": "72fbea87",
   "metadata": {},
   "outputs": [],
   "source": [
    "import warnings\n",
    "warnings.filterwarnings('ignore')\n",
    "model.fit(X_train, y_train)\n"
   ]
  },
  {
   "cell_type": "code",
   "execution_count": null,
   "id": "3764a80a",
   "metadata": {},
   "outputs": [],
   "source": [
    "y_pred = model.predict(X_test)\n",
    "results = pd.DataFrame({\n",
    "   \"Prediction\": y_pred,\n",
    "   \"Actual\": y_test\n",
    "}).reset_index(drop=True)\n",
    "results.head()"
   ]
  },
  {
   "cell_type": "code",
   "execution_count": null,
   "id": "cbe1cf1d",
   "metadata": {},
   "outputs": [],
   "source": [
    "from sklearn.metrics import accuracy_score\n",
    "accuracy_score(y_test, y_pred)"
   ]
  },
  {
   "cell_type": "code",
   "execution_count": null,
   "id": "2e080848",
   "metadata": {},
   "outputs": [],
   "source": [
    "from sklearn.metrics import confusion_matrix\n",
    "confusion_matrix(y_test, y_pred)\n",
    "\n",
    "from sklearn.metrics import classification_report\n",
    "print(classification_report(y_test, y_pred))"
   ]
  }
 ],
 "metadata": {
  "kernelspec": {
   "display_name": "mlenv",
   "language": "python",
   "name": "mlenv"
  },
  "language_info": {
   "codemirror_mode": {
    "name": "ipython",
    "version": 3
   },
   "file_extension": ".py",
   "mimetype": "text/x-python",
   "name": "python",
   "nbconvert_exporter": "python",
   "pygments_lexer": "ipython3",
   "version": "3.7.11"
  }
 },
 "nbformat": 4,
 "nbformat_minor": 5
}
