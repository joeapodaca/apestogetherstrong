{
 "cells": [
  {
   "cell_type": "code",
   "execution_count": 1,
   "id": "10c0eb33",
   "metadata": {},
   "outputs": [],
   "source": [
    "import warnings\n",
    "warnings.filterwarnings('ignore')"
   ]
  },
  {
   "cell_type": "code",
   "execution_count": 2,
   "id": "e6e76a23",
   "metadata": {},
   "outputs": [],
   "source": [
    "import numpy as np\n",
    "import pandas as pd\n",
    "from pathlib import Path\n",
    "from collections import Counter\n",
    "from sklearn.ensemble import RandomForestClassifier\n",
    "from sklearn.preprocessing import StandardScaler,OneHotEncoder\n",
    "from sklearn.model_selection import train_test_split\n",
    "from sklearn.metrics import confusion_matrix, accuracy_score, classification_report\n",
    "from sklearn.metrics import balanced_accuracy_score\n",
    "from imblearn.metrics import classification_report_imbalanced\n"
   ]
  },
  {
   "cell_type": "code",
   "execution_count": 3,
   "id": "b85ce1d4",
   "metadata": {},
   "outputs": [],
   "source": [
    "# Loading and preprocessing Data"
   ]
  },
  {
   "cell_type": "code",
   "execution_count": 4,
   "id": "98c6cd3f",
   "metadata": {},
   "outputs": [
    {
     "data": {
      "text/html": [
       "<div>\n",
       "<style scoped>\n",
       "    .dataframe tbody tr th:only-of-type {\n",
       "        vertical-align: middle;\n",
       "    }\n",
       "\n",
       "    .dataframe tbody tr th {\n",
       "        vertical-align: top;\n",
       "    }\n",
       "\n",
       "    .dataframe thead th {\n",
       "        text-align: right;\n",
       "    }\n",
       "</style>\n",
       "<table border=\"1\" class=\"dataframe\">\n",
       "  <thead>\n",
       "    <tr style=\"text-align: right;\">\n",
       "      <th></th>\n",
       "      <th>data_index</th>\n",
       "      <th>symbol</th>\n",
       "      <th>industry</th>\n",
       "      <th>sector</th>\n",
       "      <th>date</th>\n",
       "      <th>volume</th>\n",
       "      <th>volume_previousday</th>\n",
       "      <th>volume_greater_previousday</th>\n",
       "      <th>volume_deathIncrease_up</th>\n",
       "      <th>volume_hospitalizedIncrease_up</th>\n",
       "      <th>...</th>\n",
       "      <th>hospitalizedIncrease_greater_previousday</th>\n",
       "      <th>negativeIncrease</th>\n",
       "      <th>negativeIncrease_previousday</th>\n",
       "      <th>negativeIncrease_greater_previousday</th>\n",
       "      <th>positiveIncrease</th>\n",
       "      <th>positiveIncrease_previousday</th>\n",
       "      <th>positiveIncrease_greater_previousday</th>\n",
       "      <th>totalTestResultsIncrease</th>\n",
       "      <th>totalTestResultsIncrease_previousday</th>\n",
       "      <th>totalTestResultsIncrease_greater_previousday</th>\n",
       "    </tr>\n",
       "  </thead>\n",
       "  <tbody>\n",
       "    <tr>\n",
       "      <th>0</th>\n",
       "      <td>0</td>\n",
       "      <td>A</td>\n",
       "      <td>Medical Specialties</td>\n",
       "      <td>Health Technology</td>\n",
       "      <td>8/20/2020</td>\n",
       "      <td>318382</td>\n",
       "      <td>1651518</td>\n",
       "      <td>0</td>\n",
       "      <td>0</td>\n",
       "      <td>0</td>\n",
       "      <td>...</td>\n",
       "      <td>0</td>\n",
       "      <td>208472</td>\n",
       "      <td>243232</td>\n",
       "      <td>0</td>\n",
       "      <td>43844</td>\n",
       "      <td>45073</td>\n",
       "      <td>0</td>\n",
       "      <td>864210</td>\n",
       "      <td>832115</td>\n",
       "      <td>1</td>\n",
       "    </tr>\n",
       "    <tr>\n",
       "      <th>1</th>\n",
       "      <td>1</td>\n",
       "      <td>AA</td>\n",
       "      <td>Aluminum</td>\n",
       "      <td>Non-Energy Minerals</td>\n",
       "      <td>8/20/2020</td>\n",
       "      <td>1543881</td>\n",
       "      <td>5460701</td>\n",
       "      <td>0</td>\n",
       "      <td>0</td>\n",
       "      <td>0</td>\n",
       "      <td>...</td>\n",
       "      <td>0</td>\n",
       "      <td>208472</td>\n",
       "      <td>243232</td>\n",
       "      <td>0</td>\n",
       "      <td>43844</td>\n",
       "      <td>45073</td>\n",
       "      <td>0</td>\n",
       "      <td>864210</td>\n",
       "      <td>832115</td>\n",
       "      <td>1</td>\n",
       "    </tr>\n",
       "    <tr>\n",
       "      <th>2</th>\n",
       "      <td>2</td>\n",
       "      <td>AAAU</td>\n",
       "      <td>Investment Trusts/Mutual Funds</td>\n",
       "      <td>Miscellaneous</td>\n",
       "      <td>8/20/2020</td>\n",
       "      <td>151621</td>\n",
       "      <td>584100</td>\n",
       "      <td>0</td>\n",
       "      <td>0</td>\n",
       "      <td>0</td>\n",
       "      <td>...</td>\n",
       "      <td>0</td>\n",
       "      <td>208472</td>\n",
       "      <td>243232</td>\n",
       "      <td>0</td>\n",
       "      <td>43844</td>\n",
       "      <td>45073</td>\n",
       "      <td>0</td>\n",
       "      <td>864210</td>\n",
       "      <td>832115</td>\n",
       "      <td>1</td>\n",
       "    </tr>\n",
       "    <tr>\n",
       "      <th>3</th>\n",
       "      <td>3</td>\n",
       "      <td>AACG</td>\n",
       "      <td>Miscellaneous Commercial Services</td>\n",
       "      <td>Commercial Services</td>\n",
       "      <td>8/20/2020</td>\n",
       "      <td>10963</td>\n",
       "      <td>36708</td>\n",
       "      <td>0</td>\n",
       "      <td>0</td>\n",
       "      <td>0</td>\n",
       "      <td>...</td>\n",
       "      <td>0</td>\n",
       "      <td>208472</td>\n",
       "      <td>243232</td>\n",
       "      <td>0</td>\n",
       "      <td>43844</td>\n",
       "      <td>45073</td>\n",
       "      <td>0</td>\n",
       "      <td>864210</td>\n",
       "      <td>832115</td>\n",
       "      <td>1</td>\n",
       "    </tr>\n",
       "    <tr>\n",
       "      <th>4</th>\n",
       "      <td>4</td>\n",
       "      <td>AADR</td>\n",
       "      <td>Investment Trusts/Mutual Funds</td>\n",
       "      <td>Miscellaneous</td>\n",
       "      <td>8/20/2020</td>\n",
       "      <td>177</td>\n",
       "      <td>1191</td>\n",
       "      <td>0</td>\n",
       "      <td>0</td>\n",
       "      <td>0</td>\n",
       "      <td>...</td>\n",
       "      <td>0</td>\n",
       "      <td>208472</td>\n",
       "      <td>243232</td>\n",
       "      <td>0</td>\n",
       "      <td>43844</td>\n",
       "      <td>45073</td>\n",
       "      <td>0</td>\n",
       "      <td>864210</td>\n",
       "      <td>832115</td>\n",
       "      <td>1</td>\n",
       "    </tr>\n",
       "  </tbody>\n",
       "</table>\n",
       "<p>5 rows × 44 columns</p>\n",
       "</div>"
      ],
      "text/plain": [
       "   data_index symbol                           industry               sector  \\\n",
       "0           0      A                Medical Specialties    Health Technology   \n",
       "1           1     AA                           Aluminum  Non-Energy Minerals   \n",
       "2           2   AAAU     Investment Trusts/Mutual Funds        Miscellaneous   \n",
       "3           3   AACG  Miscellaneous Commercial Services  Commercial Services   \n",
       "4           4   AADR     Investment Trusts/Mutual Funds        Miscellaneous   \n",
       "\n",
       "        date   volume  volume_previousday  volume_greater_previousday  \\\n",
       "0  8/20/2020   318382             1651518                           0   \n",
       "1  8/20/2020  1543881             5460701                           0   \n",
       "2  8/20/2020   151621              584100                           0   \n",
       "3  8/20/2020    10963               36708                           0   \n",
       "4  8/20/2020      177                1191                           0   \n",
       "\n",
       "   volume_deathIncrease_up  volume_hospitalizedIncrease_up  ...  \\\n",
       "0                        0                               0  ...   \n",
       "1                        0                               0  ...   \n",
       "2                        0                               0  ...   \n",
       "3                        0                               0  ...   \n",
       "4                        0                               0  ...   \n",
       "\n",
       "   hospitalizedIncrease_greater_previousday  negativeIncrease  \\\n",
       "0                                         0            208472   \n",
       "1                                         0            208472   \n",
       "2                                         0            208472   \n",
       "3                                         0            208472   \n",
       "4                                         0            208472   \n",
       "\n",
       "   negativeIncrease_previousday  negativeIncrease_greater_previousday  \\\n",
       "0                        243232                                     0   \n",
       "1                        243232                                     0   \n",
       "2                        243232                                     0   \n",
       "3                        243232                                     0   \n",
       "4                        243232                                     0   \n",
       "\n",
       "   positiveIncrease  positiveIncrease_previousday  \\\n",
       "0             43844                         45073   \n",
       "1             43844                         45073   \n",
       "2             43844                         45073   \n",
       "3             43844                         45073   \n",
       "4             43844                         45073   \n",
       "\n",
       "   positiveIncrease_greater_previousday  totalTestResultsIncrease  \\\n",
       "0                                     0                    864210   \n",
       "1                                     0                    864210   \n",
       "2                                     0                    864210   \n",
       "3                                     0                    864210   \n",
       "4                                     0                    864210   \n",
       "\n",
       "   totalTestResultsIncrease_previousday  \\\n",
       "0                                832115   \n",
       "1                                832115   \n",
       "2                                832115   \n",
       "3                                832115   \n",
       "4                                832115   \n",
       "\n",
       "   totalTestResultsIncrease_greater_previousday  \n",
       "0                                             1  \n",
       "1                                             1  \n",
       "2                                             1  \n",
       "3                                             1  \n",
       "4                                             1  \n",
       "\n",
       "[5 rows x 44 columns]"
      ]
     },
     "execution_count": 4,
     "metadata": {},
     "output_type": "execute_result"
    }
   ],
   "source": [
    "# Loading data\n",
    "file_path = Path(\"../apestogetherstrong/logistic_regression_test.csv\")\n",
    "df_equities = pd.read_csv(file_path)\n",
    "df_equities.head()"
   ]
  },
  {
   "cell_type": "code",
   "execution_count": 5,
   "id": "43da507d",
   "metadata": {
    "scrolled": true
   },
   "outputs": [
    {
     "name": "stdout",
     "output_type": "stream",
     "text": [
      "<class 'pandas.core.frame.DataFrame'>\n",
      "RangeIndex: 623468 entries, 0 to 623467\n",
      "Data columns (total 44 columns):\n",
      " #   Column                                        Non-Null Count   Dtype  \n",
      "---  ------                                        --------------   -----  \n",
      " 0   data_index                                    623468 non-null  int64  \n",
      " 1   symbol                                        623468 non-null  object \n",
      " 2   industry                                      623468 non-null  object \n",
      " 3   sector                                        623468 non-null  object \n",
      " 4   date                                          623468 non-null  object \n",
      " 5   volume                                        623468 non-null  int64  \n",
      " 6   volume_previousday                            623468 non-null  int64  \n",
      " 7   volume_greater_previousday                    623468 non-null  int64  \n",
      " 8   volume_deathIncrease_up                       623468 non-null  int64  \n",
      " 9   volume_hospitalizedIncrease_up                623468 non-null  int64  \n",
      " 10  volume_negativeIncrease_up                    623468 non-null  int64  \n",
      " 11  volume_positiveIncrease_up                    623468 non-null  int64  \n",
      " 12  volume_totalTestResultsIncrease_up            623468 non-null  int64  \n",
      " 13  high                                          623468 non-null  float64\n",
      " 14  high_previousday                              623468 non-null  float64\n",
      " 15  high_greater_previousday                      623468 non-null  int64  \n",
      " 16  high_deathIncrease_up                         623468 non-null  int64  \n",
      " 17  high_hospitalizedIncrease_up                  623468 non-null  int64  \n",
      " 18  high_negativeIncrease_up                      623468 non-null  int64  \n",
      " 19  high_positiveIncrease_up                      623468 non-null  int64  \n",
      " 20  high_totalTestResultsIncrease_up              623468 non-null  int64  \n",
      " 21  iexClose                                      623468 non-null  float64\n",
      " 22  iexClose_previousday                          623468 non-null  float64\n",
      " 23  iexClose_greater_previousday                  623468 non-null  int64  \n",
      " 24  iexClose_deathIncrease_up                     623468 non-null  int64  \n",
      " 25  iexClose_hospitalizedIncrease_up              623468 non-null  int64  \n",
      " 26  iexClose_negativeIncrease_up                  623468 non-null  int64  \n",
      " 27  iexClose_positiveIncrease_up                  623468 non-null  int64  \n",
      " 28  iexClose_totalTestResultsIncrease_up          623468 non-null  int64  \n",
      " 29  deathIncrease                                 623468 non-null  int64  \n",
      " 30  deathIncrease_previousday                     623468 non-null  int64  \n",
      " 31  deathIncrease_greater_previousday             623468 non-null  int64  \n",
      " 32  hospitalizedIncrease                          623468 non-null  int64  \n",
      " 33  hospitalizedIncrease_previousday              623468 non-null  int64  \n",
      " 34  hospitalizedIncrease_greater_previousday      623468 non-null  int64  \n",
      " 35  negativeIncrease                              623468 non-null  int64  \n",
      " 36  negativeIncrease_previousday                  623468 non-null  int64  \n",
      " 37  negativeIncrease_greater_previousday          623468 non-null  int64  \n",
      " 38  positiveIncrease                              623468 non-null  int64  \n",
      " 39  positiveIncrease_previousday                  623468 non-null  int64  \n",
      " 40  positiveIncrease_greater_previousday          623468 non-null  int64  \n",
      " 41  totalTestResultsIncrease                      623468 non-null  int64  \n",
      " 42  totalTestResultsIncrease_previousday          623468 non-null  int64  \n",
      " 43  totalTestResultsIncrease_greater_previousday  623468 non-null  int64  \n",
      "dtypes: float64(4), int64(36), object(4)\n",
      "memory usage: 209.3+ MB\n"
     ]
    }
   ],
   "source": [
    "df_equities.info()"
   ]
  },
  {
   "cell_type": "code",
   "execution_count": 6,
   "id": "fb3808f9",
   "metadata": {
    "scrolled": true
   },
   "outputs": [
    {
     "name": "stdout",
     "output_type": "stream",
     "text": [
      "       symbol        date    high  iexClose  deathIncrease  negativeIncrease  \\\n",
      "0           A   8/20/2020  98.150    98.065           1129            208472   \n",
      "1          AA   8/20/2020  15.120    14.965           1129            208472   \n",
      "2        AAAU   8/20/2020  19.440    19.400           1129            208472   \n",
      "3        AACG   8/20/2020   1.126     1.190           1129            208472   \n",
      "4        AADR   8/20/2020  56.330    58.260           1129            208472   \n",
      "...       ...         ...     ...       ...            ...               ...   \n",
      "623463    ZVO  12/23/2020   4.270     4.130           3393            304962   \n",
      "623464   ZYME  12/23/2020  53.700    51.030           3393            304962   \n",
      "623465   ZYNE  12/23/2020   3.505     3.415           3393            304962   \n",
      "623466   ZYXI  12/23/2020  14.490    13.820           3393            304962   \n",
      "623467   TRUE  12/23/2020   4.610     4.505           3393            304962   \n",
      "\n",
      "        positiveIncrease  totalTestResultsIncrease  high_positiveIncrease_up  \n",
      "0                  43844                    864210                         0  \n",
      "1                  43844                    864210                         0  \n",
      "2                  43844                    864210                         0  \n",
      "3                  43844                    864210                         0  \n",
      "4                  43844                    864210                         0  \n",
      "...                  ...                       ...                       ...  \n",
      "623463            224526                   1791481                         1  \n",
      "623464            224526                   1791481                         0  \n",
      "623465            224526                   1791481                         1  \n",
      "623466            224526                   1791481                         1  \n",
      "623467            224526                   1791481                         1  \n",
      "\n",
      "[623468 rows x 9 columns]\n"
     ]
    }
   ],
   "source": [
    "rf_df = pd.DataFrame().assign(symbol=df_equities['symbol'],date=df_equities['date'],high=df_equities['high'],iexClose=df_equities['iexClose'],deathIncrease=df_equities['deathIncrease'],negativeIncrease=df_equities['negativeIncrease'],positiveIncrease=df_equities['positiveIncrease'],totalTestResultsIncrease=df_equities['totalTestResultsIncrease'],high_positiveIncrease_up=df_equities['high_positiveIncrease_up'])\n",
    "print(rf_df)"
   ]
  },
  {
   "cell_type": "code",
   "execution_count": 7,
   "id": "4e2e6bde",
   "metadata": {},
   "outputs": [],
   "source": [
    "float or np.ndarray(dtype=float)\n",
    "rf_df['date'] = pd.to_datetime(rf_df['date'])    \n",
    "rf_df['date_delta'] = (rf_df['date'] - rf_df['date'].min())  / np.timedelta64(1,'D')\n",
    "# converting to object\n",
    "rf_df = rf_df.astype({\"date\":'int64'}) "
   ]
  },
  {
   "cell_type": "code",
   "execution_count": 8,
   "id": "0e80f4b9",
   "metadata": {
    "scrolled": false
   },
   "outputs": [
    {
     "name": "stdout",
     "output_type": "stream",
     "text": [
      "<class 'pandas.core.frame.DataFrame'>\n",
      "RangeIndex: 623468 entries, 0 to 623467\n",
      "Data columns (total 10 columns):\n",
      " #   Column                    Non-Null Count   Dtype  \n",
      "---  ------                    --------------   -----  \n",
      " 0   symbol                    623468 non-null  object \n",
      " 1   date                      623468 non-null  int64  \n",
      " 2   high                      623468 non-null  float64\n",
      " 3   iexClose                  623468 non-null  float64\n",
      " 4   deathIncrease             623468 non-null  int64  \n",
      " 5   negativeIncrease          623468 non-null  int64  \n",
      " 6   positiveIncrease          623468 non-null  int64  \n",
      " 7   totalTestResultsIncrease  623468 non-null  int64  \n",
      " 8   high_positiveIncrease_up  623468 non-null  int64  \n",
      " 9   date_delta                623468 non-null  float64\n",
      "dtypes: float64(3), int64(6), object(1)\n",
      "memory usage: 47.6+ MB\n"
     ]
    }
   ],
   "source": [
    "rf_df.info()"
   ]
  },
  {
   "cell_type": "code",
   "execution_count": 9,
   "id": "fd0f923e",
   "metadata": {
    "scrolled": true
   },
   "outputs": [
    {
     "data": {
      "text/html": [
       "<div>\n",
       "<style scoped>\n",
       "    .dataframe tbody tr th:only-of-type {\n",
       "        vertical-align: middle;\n",
       "    }\n",
       "\n",
       "    .dataframe tbody tr th {\n",
       "        vertical-align: top;\n",
       "    }\n",
       "\n",
       "    .dataframe thead th {\n",
       "        text-align: right;\n",
       "    }\n",
       "</style>\n",
       "<table border=\"1\" class=\"dataframe\">\n",
       "  <thead>\n",
       "    <tr style=\"text-align: right;\">\n",
       "      <th></th>\n",
       "      <th>high</th>\n",
       "      <th>iexClose</th>\n",
       "      <th>deathIncrease</th>\n",
       "      <th>negativeIncrease</th>\n",
       "      <th>positiveIncrease</th>\n",
       "      <th>totalTestResultsIncrease</th>\n",
       "      <th>high_positiveIncrease_up</th>\n",
       "      <th>date_delta</th>\n",
       "    </tr>\n",
       "  </thead>\n",
       "  <tbody>\n",
       "    <tr>\n",
       "      <th>0</th>\n",
       "      <td>98.150</td>\n",
       "      <td>98.065</td>\n",
       "      <td>1129</td>\n",
       "      <td>208472</td>\n",
       "      <td>43844</td>\n",
       "      <td>864210</td>\n",
       "      <td>0</td>\n",
       "      <td>0.0</td>\n",
       "    </tr>\n",
       "    <tr>\n",
       "      <th>1</th>\n",
       "      <td>15.120</td>\n",
       "      <td>14.965</td>\n",
       "      <td>1129</td>\n",
       "      <td>208472</td>\n",
       "      <td>43844</td>\n",
       "      <td>864210</td>\n",
       "      <td>0</td>\n",
       "      <td>0.0</td>\n",
       "    </tr>\n",
       "    <tr>\n",
       "      <th>2</th>\n",
       "      <td>19.440</td>\n",
       "      <td>19.400</td>\n",
       "      <td>1129</td>\n",
       "      <td>208472</td>\n",
       "      <td>43844</td>\n",
       "      <td>864210</td>\n",
       "      <td>0</td>\n",
       "      <td>0.0</td>\n",
       "    </tr>\n",
       "    <tr>\n",
       "      <th>3</th>\n",
       "      <td>1.126</td>\n",
       "      <td>1.190</td>\n",
       "      <td>1129</td>\n",
       "      <td>208472</td>\n",
       "      <td>43844</td>\n",
       "      <td>864210</td>\n",
       "      <td>0</td>\n",
       "      <td>0.0</td>\n",
       "    </tr>\n",
       "    <tr>\n",
       "      <th>4</th>\n",
       "      <td>56.330</td>\n",
       "      <td>58.260</td>\n",
       "      <td>1129</td>\n",
       "      <td>208472</td>\n",
       "      <td>43844</td>\n",
       "      <td>864210</td>\n",
       "      <td>0</td>\n",
       "      <td>0.0</td>\n",
       "    </tr>\n",
       "  </tbody>\n",
       "</table>\n",
       "</div>"
      ],
      "text/plain": [
       "     high  iexClose  deathIncrease  negativeIncrease  positiveIncrease  \\\n",
       "0  98.150    98.065           1129            208472             43844   \n",
       "1  15.120    14.965           1129            208472             43844   \n",
       "2  19.440    19.400           1129            208472             43844   \n",
       "3   1.126     1.190           1129            208472             43844   \n",
       "4  56.330    58.260           1129            208472             43844   \n",
       "\n",
       "   totalTestResultsIncrease  high_positiveIncrease_up  date_delta  \n",
       "0                    864210                         0         0.0  \n",
       "1                    864210                         0         0.0  \n",
       "2                    864210                         0         0.0  \n",
       "3                    864210                         0         0.0  \n",
       "4                    864210                         0         0.0  "
      ]
     },
     "execution_count": 9,
     "metadata": {},
     "output_type": "execute_result"
    }
   ],
   "source": [
    "rf_df = rf_df.drop(labels=[\"symbol\", \"date\"], axis=1)\n",
    "rf_df.head()\n",
    "\n"
   ]
  },
  {
   "cell_type": "code",
   "execution_count": 10,
   "id": "1b3adb44",
   "metadata": {},
   "outputs": [
    {
     "data": {
      "text/html": [
       "<div>\n",
       "<style scoped>\n",
       "    .dataframe tbody tr th:only-of-type {\n",
       "        vertical-align: middle;\n",
       "    }\n",
       "\n",
       "    .dataframe tbody tr th {\n",
       "        vertical-align: top;\n",
       "    }\n",
       "\n",
       "    .dataframe thead th {\n",
       "        text-align: right;\n",
       "    }\n",
       "</style>\n",
       "<table border=\"1\" class=\"dataframe\">\n",
       "  <thead>\n",
       "    <tr style=\"text-align: right;\">\n",
       "      <th></th>\n",
       "      <th>high</th>\n",
       "      <th>iexClose</th>\n",
       "      <th>deathIncrease</th>\n",
       "      <th>negativeIncrease</th>\n",
       "      <th>positiveIncrease</th>\n",
       "      <th>totalTestResultsIncrease</th>\n",
       "      <th>high_positiveIncrease_up</th>\n",
       "      <th>date_delta</th>\n",
       "    </tr>\n",
       "  </thead>\n",
       "  <tbody>\n",
       "    <tr>\n",
       "      <th>623463</th>\n",
       "      <td>4.270</td>\n",
       "      <td>4.130</td>\n",
       "      <td>3393</td>\n",
       "      <td>304962</td>\n",
       "      <td>224526</td>\n",
       "      <td>1791481</td>\n",
       "      <td>1</td>\n",
       "      <td>125.0</td>\n",
       "    </tr>\n",
       "    <tr>\n",
       "      <th>623464</th>\n",
       "      <td>53.700</td>\n",
       "      <td>51.030</td>\n",
       "      <td>3393</td>\n",
       "      <td>304962</td>\n",
       "      <td>224526</td>\n",
       "      <td>1791481</td>\n",
       "      <td>0</td>\n",
       "      <td>125.0</td>\n",
       "    </tr>\n",
       "    <tr>\n",
       "      <th>623465</th>\n",
       "      <td>3.505</td>\n",
       "      <td>3.415</td>\n",
       "      <td>3393</td>\n",
       "      <td>304962</td>\n",
       "      <td>224526</td>\n",
       "      <td>1791481</td>\n",
       "      <td>1</td>\n",
       "      <td>125.0</td>\n",
       "    </tr>\n",
       "    <tr>\n",
       "      <th>623466</th>\n",
       "      <td>14.490</td>\n",
       "      <td>13.820</td>\n",
       "      <td>3393</td>\n",
       "      <td>304962</td>\n",
       "      <td>224526</td>\n",
       "      <td>1791481</td>\n",
       "      <td>1</td>\n",
       "      <td>125.0</td>\n",
       "    </tr>\n",
       "    <tr>\n",
       "      <th>623467</th>\n",
       "      <td>4.610</td>\n",
       "      <td>4.505</td>\n",
       "      <td>3393</td>\n",
       "      <td>304962</td>\n",
       "      <td>224526</td>\n",
       "      <td>1791481</td>\n",
       "      <td>1</td>\n",
       "      <td>125.0</td>\n",
       "    </tr>\n",
       "  </tbody>\n",
       "</table>\n",
       "</div>"
      ],
      "text/plain": [
       "          high  iexClose  deathIncrease  negativeIncrease  positiveIncrease  \\\n",
       "623463   4.270     4.130           3393            304962            224526   \n",
       "623464  53.700    51.030           3393            304962            224526   \n",
       "623465   3.505     3.415           3393            304962            224526   \n",
       "623466  14.490    13.820           3393            304962            224526   \n",
       "623467   4.610     4.505           3393            304962            224526   \n",
       "\n",
       "        totalTestResultsIncrease  high_positiveIncrease_up  date_delta  \n",
       "623463                   1791481                         1       125.0  \n",
       "623464                   1791481                         0       125.0  \n",
       "623465                   1791481                         1       125.0  \n",
       "623466                   1791481                         1       125.0  \n",
       "623467                   1791481                         1       125.0  "
      ]
     },
     "execution_count": 10,
     "metadata": {},
     "output_type": "execute_result"
    }
   ],
   "source": [
    "rf_df.tail()"
   ]
  },
  {
   "cell_type": "code",
   "execution_count": 11,
   "id": "8ab6e36e",
   "metadata": {},
   "outputs": [
    {
     "name": "stdout",
     "output_type": "stream",
     "text": [
      "<class 'pandas.core.frame.DataFrame'>\n",
      "RangeIndex: 623468 entries, 0 to 623467\n",
      "Data columns (total 8 columns):\n",
      " #   Column                    Non-Null Count   Dtype  \n",
      "---  ------                    --------------   -----  \n",
      " 0   high                      623468 non-null  float64\n",
      " 1   iexClose                  623468 non-null  float64\n",
      " 2   deathIncrease             623468 non-null  int64  \n",
      " 3   negativeIncrease          623468 non-null  int64  \n",
      " 4   positiveIncrease          623468 non-null  int64  \n",
      " 5   totalTestResultsIncrease  623468 non-null  int64  \n",
      " 6   high_positiveIncrease_up  623468 non-null  int64  \n",
      " 7   date_delta                623468 non-null  float64\n",
      "dtypes: float64(3), int64(5)\n",
      "memory usage: 38.1 MB\n"
     ]
    }
   ],
   "source": [
    "rf_df.info()"
   ]
  },
  {
   "cell_type": "code",
   "execution_count": 12,
   "id": "0b6032ff",
   "metadata": {},
   "outputs": [
    {
     "data": {
      "text/html": [
       "<div>\n",
       "<style scoped>\n",
       "    .dataframe tbody tr th:only-of-type {\n",
       "        vertical-align: middle;\n",
       "    }\n",
       "\n",
       "    .dataframe tbody tr th {\n",
       "        vertical-align: top;\n",
       "    }\n",
       "\n",
       "    .dataframe thead th {\n",
       "        text-align: right;\n",
       "    }\n",
       "</style>\n",
       "<table border=\"1\" class=\"dataframe\">\n",
       "  <thead>\n",
       "    <tr style=\"text-align: right;\">\n",
       "      <th></th>\n",
       "      <th>high</th>\n",
       "      <th>iexClose</th>\n",
       "      <th>deathIncrease</th>\n",
       "      <th>negativeIncrease</th>\n",
       "      <th>positiveIncrease</th>\n",
       "      <th>totalTestResultsIncrease</th>\n",
       "      <th>date_delta</th>\n",
       "    </tr>\n",
       "  </thead>\n",
       "  <tbody>\n",
       "    <tr>\n",
       "      <th>0</th>\n",
       "      <td>98.150</td>\n",
       "      <td>98.065</td>\n",
       "      <td>1129</td>\n",
       "      <td>208472</td>\n",
       "      <td>43844</td>\n",
       "      <td>864210</td>\n",
       "      <td>0.0</td>\n",
       "    </tr>\n",
       "    <tr>\n",
       "      <th>1</th>\n",
       "      <td>15.120</td>\n",
       "      <td>14.965</td>\n",
       "      <td>1129</td>\n",
       "      <td>208472</td>\n",
       "      <td>43844</td>\n",
       "      <td>864210</td>\n",
       "      <td>0.0</td>\n",
       "    </tr>\n",
       "    <tr>\n",
       "      <th>2</th>\n",
       "      <td>19.440</td>\n",
       "      <td>19.400</td>\n",
       "      <td>1129</td>\n",
       "      <td>208472</td>\n",
       "      <td>43844</td>\n",
       "      <td>864210</td>\n",
       "      <td>0.0</td>\n",
       "    </tr>\n",
       "    <tr>\n",
       "      <th>3</th>\n",
       "      <td>1.126</td>\n",
       "      <td>1.190</td>\n",
       "      <td>1129</td>\n",
       "      <td>208472</td>\n",
       "      <td>43844</td>\n",
       "      <td>864210</td>\n",
       "      <td>0.0</td>\n",
       "    </tr>\n",
       "    <tr>\n",
       "      <th>4</th>\n",
       "      <td>56.330</td>\n",
       "      <td>58.260</td>\n",
       "      <td>1129</td>\n",
       "      <td>208472</td>\n",
       "      <td>43844</td>\n",
       "      <td>864210</td>\n",
       "      <td>0.0</td>\n",
       "    </tr>\n",
       "  </tbody>\n",
       "</table>\n",
       "</div>"
      ],
      "text/plain": [
       "     high  iexClose  deathIncrease  negativeIncrease  positiveIncrease  \\\n",
       "0  98.150    98.065           1129            208472             43844   \n",
       "1  15.120    14.965           1129            208472             43844   \n",
       "2  19.440    19.400           1129            208472             43844   \n",
       "3   1.126     1.190           1129            208472             43844   \n",
       "4  56.330    58.260           1129            208472             43844   \n",
       "\n",
       "   totalTestResultsIncrease  date_delta  \n",
       "0                    864210         0.0  \n",
       "1                    864210         0.0  \n",
       "2                    864210         0.0  \n",
       "3                    864210         0.0  \n",
       "4                    864210         0.0  "
      ]
     },
     "execution_count": 12,
     "metadata": {},
     "output_type": "execute_result"
    }
   ],
   "source": [
    "# Create our features\n",
    "#X = pd.get_dummies(df_equities, columns=[\"death\", \"deathIncrease\", \"hospitalizedIncrease\", \"hospitalizedCurrently\", \"negative\", \"positive\", \"totalTestResults\", \"totalTestResultsIncrease\"])\n",
    "X = rf_df.drop('high_positiveIncrease_up',axis=1)\n",
    "# Create our target\n",
    "y = pd.DataFrame(rf_df[\"high_positiveIncrease_up\"])\n",
    "X.head()"
   ]
  },
  {
   "cell_type": "code",
   "execution_count": 13,
   "id": "f5d8c416",
   "metadata": {},
   "outputs": [
    {
     "name": "stdout",
     "output_type": "stream",
     "text": [
      "<class 'pandas.core.frame.DataFrame'>\n",
      "RangeIndex: 623468 entries, 0 to 623467\n",
      "Data columns (total 7 columns):\n",
      " #   Column                    Non-Null Count   Dtype  \n",
      "---  ------                    --------------   -----  \n",
      " 0   high                      623468 non-null  float64\n",
      " 1   iexClose                  623468 non-null  float64\n",
      " 2   deathIncrease             623468 non-null  int64  \n",
      " 3   negativeIncrease          623468 non-null  int64  \n",
      " 4   positiveIncrease          623468 non-null  int64  \n",
      " 5   totalTestResultsIncrease  623468 non-null  int64  \n",
      " 6   date_delta                623468 non-null  float64\n",
      "dtypes: float64(3), int64(4)\n",
      "memory usage: 33.3 MB\n"
     ]
    }
   ],
   "source": [
    "X.info()"
   ]
  },
  {
   "cell_type": "code",
   "execution_count": 14,
   "id": "9aad20f7",
   "metadata": {
    "scrolled": false
   },
   "outputs": [
    {
     "data": {
      "text/html": [
       "<div>\n",
       "<style scoped>\n",
       "    .dataframe tbody tr th:only-of-type {\n",
       "        vertical-align: middle;\n",
       "    }\n",
       "\n",
       "    .dataframe tbody tr th {\n",
       "        vertical-align: top;\n",
       "    }\n",
       "\n",
       "    .dataframe thead th {\n",
       "        text-align: right;\n",
       "    }\n",
       "</style>\n",
       "<table border=\"1\" class=\"dataframe\">\n",
       "  <thead>\n",
       "    <tr style=\"text-align: right;\">\n",
       "      <th></th>\n",
       "      <th>high</th>\n",
       "      <th>iexClose</th>\n",
       "      <th>deathIncrease</th>\n",
       "      <th>negativeIncrease</th>\n",
       "      <th>positiveIncrease</th>\n",
       "      <th>totalTestResultsIncrease</th>\n",
       "      <th>date_delta</th>\n",
       "    </tr>\n",
       "  </thead>\n",
       "  <tbody>\n",
       "    <tr>\n",
       "      <th>count</th>\n",
       "      <td>623468.000000</td>\n",
       "      <td>623468.000000</td>\n",
       "      <td>623468.000000</td>\n",
       "      <td>623468.000000</td>\n",
       "      <td>623468.000000</td>\n",
       "      <td>6.234680e+05</td>\n",
       "      <td>623468.000000</td>\n",
       "    </tr>\n",
       "    <tr>\n",
       "      <th>mean</th>\n",
       "      <td>41.163351</td>\n",
       "      <td>42.778524</td>\n",
       "      <td>1273.873418</td>\n",
       "      <td>250270.392405</td>\n",
       "      <td>100151.316456</td>\n",
       "      <td>1.282244e+06</td>\n",
       "      <td>62.164557</td>\n",
       "    </tr>\n",
       "    <tr>\n",
       "      <th>std</th>\n",
       "      <td>103.949506</td>\n",
       "      <td>104.890778</td>\n",
       "      <td>806.655191</td>\n",
       "      <td>124994.255672</td>\n",
       "      <td>68173.329913</td>\n",
       "      <td>4.011269e+05</td>\n",
       "      <td>35.269849</td>\n",
       "    </tr>\n",
       "    <tr>\n",
       "      <th>min</th>\n",
       "      <td>0.000000</td>\n",
       "      <td>0.007000</td>\n",
       "      <td>246.000000</td>\n",
       "      <td>-658774.000000</td>\n",
       "      <td>22310.000000</td>\n",
       "      <td>5.468590e+05</td>\n",
       "      <td>0.000000</td>\n",
       "    </tr>\n",
       "    <tr>\n",
       "      <th>25%</th>\n",
       "      <td>7.580000</td>\n",
       "      <td>9.180000</td>\n",
       "      <td>847.000000</td>\n",
       "      <td>211097.000000</td>\n",
       "      <td>43642.000000</td>\n",
       "      <td>9.504830e+05</td>\n",
       "      <td>33.000000</td>\n",
       "    </tr>\n",
       "    <tr>\n",
       "      <th>50%</th>\n",
       "      <td>21.680000</td>\n",
       "      <td>22.920000</td>\n",
       "      <td>1047.000000</td>\n",
       "      <td>263255.000000</td>\n",
       "      <td>63430.000000</td>\n",
       "      <td>1.182695e+06</td>\n",
       "      <td>61.000000</td>\n",
       "    </tr>\n",
       "    <tr>\n",
       "      <th>75%</th>\n",
       "      <td>42.739250</td>\n",
       "      <td>44.160000</td>\n",
       "      <td>1358.000000</td>\n",
       "      <td>304962.000000</td>\n",
       "      <td>166503.000000</td>\n",
       "      <td>1.653269e+06</td>\n",
       "      <td>91.000000</td>\n",
       "    </tr>\n",
       "    <tr>\n",
       "      <th>max</th>\n",
       "      <td>4530.000000</td>\n",
       "      <td>4474.000000</td>\n",
       "      <td>3453.000000</td>\n",
       "      <td>456078.000000</td>\n",
       "      <td>236933.000000</td>\n",
       "      <td>2.010951e+06</td>\n",
       "      <td>125.000000</td>\n",
       "    </tr>\n",
       "  </tbody>\n",
       "</table>\n",
       "</div>"
      ],
      "text/plain": [
       "                high       iexClose  deathIncrease  negativeIncrease  \\\n",
       "count  623468.000000  623468.000000  623468.000000     623468.000000   \n",
       "mean       41.163351      42.778524    1273.873418     250270.392405   \n",
       "std       103.949506     104.890778     806.655191     124994.255672   \n",
       "min         0.000000       0.007000     246.000000    -658774.000000   \n",
       "25%         7.580000       9.180000     847.000000     211097.000000   \n",
       "50%        21.680000      22.920000    1047.000000     263255.000000   \n",
       "75%        42.739250      44.160000    1358.000000     304962.000000   \n",
       "max      4530.000000    4474.000000    3453.000000     456078.000000   \n",
       "\n",
       "       positiveIncrease  totalTestResultsIncrease     date_delta  \n",
       "count     623468.000000              6.234680e+05  623468.000000  \n",
       "mean      100151.316456              1.282244e+06      62.164557  \n",
       "std        68173.329913              4.011269e+05      35.269849  \n",
       "min        22310.000000              5.468590e+05       0.000000  \n",
       "25%        43642.000000              9.504830e+05      33.000000  \n",
       "50%        63430.000000              1.182695e+06      61.000000  \n",
       "75%       166503.000000              1.653269e+06      91.000000  \n",
       "max       236933.000000              2.010951e+06     125.000000  "
      ]
     },
     "execution_count": 14,
     "metadata": {},
     "output_type": "execute_result"
    }
   ],
   "source": [
    "X.describe()"
   ]
  },
  {
   "cell_type": "code",
   "execution_count": 15,
   "id": "fddfd7ad",
   "metadata": {
    "scrolled": false
   },
   "outputs": [
    {
     "data": {
      "text/plain": [
       "0    417157\n",
       "1    206311\n",
       "Name: high_positiveIncrease_up, dtype: int64"
      ]
     },
     "execution_count": 15,
     "metadata": {},
     "output_type": "execute_result"
    }
   ],
   "source": [
    "# Check the balance of our target values\n",
    "y['high_positiveIncrease_up'].value_counts()"
   ]
  },
  {
   "cell_type": "code",
   "execution_count": 16,
   "id": "8ea87baa",
   "metadata": {
    "scrolled": true
   },
   "outputs": [
    {
     "data": {
      "text/html": [
       "<div>\n",
       "<style scoped>\n",
       "    .dataframe tbody tr th:only-of-type {\n",
       "        vertical-align: middle;\n",
       "    }\n",
       "\n",
       "    .dataframe tbody tr th {\n",
       "        vertical-align: top;\n",
       "    }\n",
       "\n",
       "    .dataframe thead th {\n",
       "        text-align: right;\n",
       "    }\n",
       "</style>\n",
       "<table border=\"1\" class=\"dataframe\">\n",
       "  <thead>\n",
       "    <tr style=\"text-align: right;\">\n",
       "      <th></th>\n",
       "      <th>high_positiveIncrease_up</th>\n",
       "    </tr>\n",
       "  </thead>\n",
       "  <tbody>\n",
       "    <tr>\n",
       "      <th>0</th>\n",
       "      <td>0</td>\n",
       "    </tr>\n",
       "    <tr>\n",
       "      <th>1</th>\n",
       "      <td>0</td>\n",
       "    </tr>\n",
       "    <tr>\n",
       "      <th>2</th>\n",
       "      <td>0</td>\n",
       "    </tr>\n",
       "    <tr>\n",
       "      <th>3</th>\n",
       "      <td>0</td>\n",
       "    </tr>\n",
       "    <tr>\n",
       "      <th>4</th>\n",
       "      <td>0</td>\n",
       "    </tr>\n",
       "  </tbody>\n",
       "</table>\n",
       "</div>"
      ],
      "text/plain": [
       "   high_positiveIncrease_up\n",
       "0                         0\n",
       "1                         0\n",
       "2                         0\n",
       "3                         0\n",
       "4                         0"
      ]
     },
     "execution_count": 16,
     "metadata": {},
     "output_type": "execute_result"
    }
   ],
   "source": [
    "y.head()"
   ]
  },
  {
   "cell_type": "code",
   "execution_count": 17,
   "id": "4f93fcaa",
   "metadata": {
    "scrolled": true
   },
   "outputs": [
    {
     "data": {
      "text/plain": [
       "0    0.669091\n",
       "1    0.330909\n",
       "Name: high_positiveIncrease_up, dtype: float64"
      ]
     },
     "execution_count": 17,
     "metadata": {},
     "output_type": "execute_result"
    }
   ],
   "source": [
    "# Check the balance of our target values\n",
    "y['high_positiveIncrease_up'].value_counts(normalize=True)"
   ]
  },
  {
   "cell_type": "code",
   "execution_count": 18,
   "id": "0b152f9c",
   "metadata": {
    "scrolled": true
   },
   "outputs": [
    {
     "data": {
      "text/plain": [
       "<seaborn.axisgrid.FacetGrid at 0x23813e16248>"
      ]
     },
     "execution_count": 18,
     "metadata": {},
     "output_type": "execute_result"
    },
    {
     "data": {
      "image/png": "[encoded data removed]",
      "text/plain": [
       "<Figure size 360x360 with 1 Axes>"
      ]
     },
     "metadata": {
      "needs_background": "light"
     },
     "output_type": "display_data"
    }
   ],
   "source": [
    "import seaborn as sn\n",
    "sn.factorplot('high_positiveIncrease_up', data=y,kind='count')"
   ]
  },
  {
   "cell_type": "code",
   "execution_count": 19,
   "id": "799f2ed0",
   "metadata": {},
   "outputs": [],
   "source": [
    "# Splitting into Train and Test sets.\n",
    "X_train, X_test, y_train, y_test = train_test_split(X, y, random_state=1, stratify=y)"
   ]
  },
  {
   "cell_type": "code",
   "execution_count": 20,
   "id": "06b2cda6",
   "metadata": {},
   "outputs": [
    {
     "data": {
      "text/plain": [
       "BalancedRandomForestClassifier(random_state=1)"
      ]
     },
     "execution_count": 20,
     "metadata": {},
     "output_type": "execute_result"
    }
   ],
   "source": [
    "# Resample the training data with the BalancedRandomForestClassifier\n",
    "from imblearn.ensemble import BalancedRandomForestClassifier\n",
    "from sklearn.metrics import balanced_accuracy_score\n",
    "# Create a random forest classifier.\n",
    "brf_model = BalancedRandomForestClassifier(n_estimators=100, random_state=1)\n",
    "\n",
    "# Fit\n",
    "brf_model.fit(X_train, y_train)"
   ]
  },
  {
   "cell_type": "code",
   "execution_count": 21,
   "id": "61bd643a",
   "metadata": {
    "scrolled": true
   },
   "outputs": [
    {
     "data": {
      "text/plain": [
       "0.7444915254478338"
      ]
     },
     "execution_count": 21,
     "metadata": {},
     "output_type": "execute_result"
    }
   ],
   "source": [
    "# Fitting the model\n",
    "predictions = brf_model.predict(X_test)\n",
    "balanced_accuracy_score(y_test, predictions)"
   ]
  },
  {
   "cell_type": "code",
   "execution_count": 23,
   "id": "882d4b26",
   "metadata": {
    "scrolled": true
   },
   "outputs": [
    {
     "data": {
      "text/plain": [
       "array([[75159, 32307],\n",
       "       [ 8330, 40071]], dtype=int64)"
      ]
     },
     "execution_count": 23,
     "metadata": {},
     "output_type": "execute_result"
    }
   ],
   "source": [
    "# Display the confusion matrix\n",
    "confusion_matrix(y_test, predictions)"
   ]
  },
  {
   "cell_type": "code",
   "execution_count": 24,
   "id": "d202eb29",
   "metadata": {
    "scrolled": true
   },
   "outputs": [
    {
     "name": "stdout",
     "output_type": "stream",
     "text": [
      "                   pre       rec       spe        f1       geo       iba       sup\n",
      "\n",
      "          0       0.90      0.70      0.83      0.79      0.76      0.57    107466\n",
      "          1       0.55      0.83      0.70      0.66      0.76      0.59     48401\n",
      "\n",
      "avg / total       0.79      0.74      0.79      0.75      0.76      0.58    155867\n",
      "\n"
     ]
    }
   ],
   "source": [
    "# Print the imbalanced classification report\n",
    "print(classification_report_imbalanced(y_test, predictions))"
   ]
  },
  {
   "cell_type": "code",
   "execution_count": 25,
   "id": "75cff3e5",
   "metadata": {
    "scrolled": true
   },
   "outputs": [
    {
     "data": {
      "text/plain": [
       "array([0.33186056, 0.28496936, 0.14547552, 0.07067753, 0.06199269,\n",
       "       0.05303948, 0.05198486])"
      ]
     },
     "execution_count": 25,
     "metadata": {},
     "output_type": "execute_result"
    }
   ],
   "source": [
    "# Calculate feature importance in the Random Forest model.\n",
    "importances = brf_model.feature_importances_\n",
    "importances"
   ]
  },
  {
   "cell_type": "code",
   "execution_count": 26,
   "id": "f1a33da6",
   "metadata": {
    "scrolled": false
   },
   "outputs": [
    {
     "data": {
      "text/plain": [
       "[(0.3318605573087507, 'high'),\n",
       " (0.28496935968715936, 'iexClose'),\n",
       " (0.14547551925904784, 'deathIncrease'),\n",
       " (0.0706775319935125, 'negativeIncrease'),\n",
       " (0.06199268782956306, 'positiveIncrease'),\n",
       " (0.05303948236439628, 'totalTestResultsIncrease'),\n",
       " (0.051984861557570296, 'date_delta')]"
      ]
     },
     "execution_count": 26,
     "metadata": {},
     "output_type": "execute_result"
    }
   ],
   "source": [
    "# We can sort the features by their importance.\n",
    "sorted(zip(brf_model.feature_importances_, X.columns), reverse=True)"
   ]
  },
  {
   "cell_type": "code",
   "execution_count": 27,
   "id": "7e4fd2a1",
   "metadata": {
    "scrolled": true
   },
   "outputs": [
    {
     "name": "stdout",
     "output_type": "stream",
     "text": [
      "                   pre       rec       spe        f1       geo       iba       sup\n",
      "\n",
      "          0       0.90      0.70      0.83      0.79      0.76      0.57    107466\n",
      "          1       0.55      0.83      0.70      0.66      0.76      0.59     48401\n",
      "\n",
      "avg / total       0.79      0.74      0.79      0.75      0.76      0.58    155867\n",
      "\n"
     ]
    }
   ],
   "source": [
    "# Print the imbalanced classification report\n",
    "from imblearn.metrics import classification_report_imbalanced\n",
    "print(classification_report_imbalanced(y_test, predictions))"
   ]
  },
  {
   "cell_type": "code",
   "execution_count": null,
   "id": "0cd5a523",
   "metadata": {},
   "outputs": [],
   "source": []
  },
  {
   "cell_type": "code",
   "execution_count": null,
   "id": "db140858",
   "metadata": {},
   "outputs": [],
   "source": []
  }
 ],
 "metadata": {
  "kernelspec": {
   "display_name": "mlenv",
   "language": "python",
   "name": "mlenv"
  },
  "language_info": {
   "codemirror_mode": {
    "name": "ipython",
    "version": 3
   },
   "file_extension": ".py",
   "mimetype": "text/x-python",
   "name": "python",
   "nbconvert_exporter": "python",
   "pygments_lexer": "ipython3",
   "version": "3.7.11"
  }
 },
 "nbformat": 4,
 "nbformat_minor": 5
}
